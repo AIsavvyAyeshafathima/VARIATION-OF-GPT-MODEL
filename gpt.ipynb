{
  "cells": [
    {
      "cell_type": "markdown",
      "metadata": {
        "id": "view-in-github",
        "colab_type": "text"
      },
      "source": [
        "<a href=\"https://colab.research.google.com/github/AIsavvyAyeshafathima/VARIATION-OF-GPT-MODEL/blob/main/gpt.ipynb\" target=\"_parent\"><img src=\"https://colab.research.google.com/assets/colab-badge.svg\" alt=\"Open In Colab\"/></a>"
      ]
    },
    {
      "cell_type": "markdown",
      "id": "b076bd1a-b236-4fbc-953d-8295b25122ae",
      "metadata": {
        "id": "b076bd1a-b236-4fbc-953d-8295b25122ae"
      },
      "source": [
        "# 🚀 GPT"
      ]
    },
    {
      "cell_type": "code",
      "source": [
        "from google.colab import drive\n",
        "drive.mount('/content/drive')"
      ],
      "metadata": {
        "colab": {
          "base_uri": "https://localhost:8080/"
        },
        "id": "RZkJKNNnDouy",
        "outputId": "990bfce6-1ece-4028-f9ec-d394ea076287"
      },
      "id": "RZkJKNNnDouy",
      "execution_count": 1,
      "outputs": [
        {
          "output_type": "stream",
          "name": "stdout",
          "text": [
            "Mounted at /content/drive\n"
          ]
        }
      ]
    },
    {
      "cell_type": "markdown",
      "id": "4dca6836-0007-43f3-af65-d12ae1922c02",
      "metadata": {
        "tags": [],
        "id": "4dca6836-0007-43f3-af65-d12ae1922c02"
      },
      "source": [
        "In this notebook, we'll walk through the steps required to train your own GPT model on the wine review dataset"
      ]
    },
    {
      "cell_type": "markdown",
      "id": "3e6cb7c7-d3d5-4b12-b357-1f6118edffe0",
      "metadata": {
        "id": "3e6cb7c7-d3d5-4b12-b357-1f6118edffe0"
      },
      "source": [
        "The code is adapted from the excellent [GPT tutorial](https://keras.io/examples/generative/text_generation_with_miniature_gpt/) created by Apoorv Nandan available on the Keras website."
      ]
    },
    {
      "cell_type": "code",
      "execution_count": 2,
      "id": "73350761-bef2-4e96-b3ac-a158eabd2b65",
      "metadata": {
        "tags": [],
        "id": "73350761-bef2-4e96-b3ac-a158eabd2b65"
      },
      "outputs": [],
      "source": [
        "%load_ext autoreload\n",
        "%autoreload 2\n",
        "import numpy as np\n",
        "import json\n",
        "import re\n",
        "import string\n",
        "from IPython.display import display, HTML\n",
        "\n",
        "import tensorflow as tf\n",
        "from tensorflow.keras import layers, models, losses, callbacks"
      ]
    },
    {
      "cell_type": "markdown",
      "id": "339e6268-ebd7-4feb-86db-1fe7abccdbe5",
      "metadata": {
        "id": "339e6268-ebd7-4feb-86db-1fe7abccdbe5"
      },
      "source": [
        "## 0. Parameters <a name=\"parameters\"></a>"
      ]
    },
    {
      "cell_type": "code",
      "execution_count": 3,
      "id": "2d8352af-343e-4c2e-8c91-95f8bac1c8a1",
      "metadata": {
        "id": "2d8352af-343e-4c2e-8c91-95f8bac1c8a1"
      },
      "outputs": [],
      "source": [
        "VOCAB_SIZE = 10000\n",
        "MAX_LEN = 80\n",
        "EMBEDDING_DIM = 256\n",
        "KEY_DIM = 256\n",
        "N_HEADS = 2\n",
        "FEED_FORWARD_DIM = 256\n",
        "VALIDATION_SPLIT = 0.2\n",
        "SEED = 42\n",
        "LOAD_MODEL = False\n",
        "BATCH_SIZE = 32\n",
        "EPOCHS = 5"
      ]
    },
    {
      "cell_type": "markdown",
      "id": "b7716fac-0010-49b0-b98e-53be2259edde",
      "metadata": {
        "id": "b7716fac-0010-49b0-b98e-53be2259edde"
      },
      "source": [
        "## 1. Load the data <a name=\"load\"></a>"
      ]
    },
    {
      "cell_type": "code",
      "execution_count": 4,
      "id": "93cf6b0f-9667-4146-8911-763a8a2925d3",
      "metadata": {
        "tags": [],
        "id": "93cf6b0f-9667-4146-8911-763a8a2925d3"
      },
      "outputs": [],
      "source": [
        "# Load the full dataset\n",
        "with open(\"/content/drive/MyDrive/winemag-data-130k-v2.json\") as json_data:\n",
        "    wine_data = json.load(json_data)"
      ]
    },
    {
      "cell_type": "code",
      "execution_count": 5,
      "id": "2db5c0fc-0d5f-42ab-ade1-57e594c416ec",
      "metadata": {
        "tags": [],
        "colab": {
          "base_uri": "https://localhost:8080/"
        },
        "id": "2db5c0fc-0d5f-42ab-ade1-57e594c416ec",
        "outputId": "893c5827-4e2f-40c2-bd66-dac7bf5142fb"
      },
      "outputs": [
        {
          "output_type": "execute_result",
          "data": {
            "text/plain": [
              "{'points': '87',\n",
              " 'title': 'Kirkland Signature 2011 Mountain Cuvée Cabernet Sauvignon (Napa Valley)',\n",
              " 'description': 'Soft, supple plum envelopes an oaky structure in this Cabernet, supported by 15% Merlot. Coffee and chocolate complete the picture, finishing strong at the end, resulting in a value-priced wine of attractive flavor and immediate accessibility.',\n",
              " 'taster_name': 'Virginie Boone',\n",
              " 'taster_twitter_handle': '@vboone',\n",
              " 'price': 19,\n",
              " 'designation': 'Mountain Cuvée',\n",
              " 'variety': 'Cabernet Sauvignon',\n",
              " 'region_1': 'Napa Valley',\n",
              " 'region_2': 'Napa',\n",
              " 'province': 'California',\n",
              " 'country': 'US',\n",
              " 'winery': 'Kirkland Signature'}"
            ]
          },
          "metadata": {},
          "execution_count": 5
        }
      ],
      "source": [
        "wine_data[10]"
      ]
    },
    {
      "cell_type": "code",
      "execution_count": 6,
      "id": "23a74eca-f1b7-4a46-9a1f-b5806a4ed361",
      "metadata": {
        "tags": [],
        "id": "23a74eca-f1b7-4a46-9a1f-b5806a4ed361"
      },
      "outputs": [],
      "source": [
        "# Filter the dataset\n",
        "filtered_data = [\n",
        "    \"wine review : \"\n",
        "    + x[\"country\"]\n",
        "    + \" : \"\n",
        "    + x[\"province\"]\n",
        "    + \" : \"\n",
        "    + x[\"variety\"]\n",
        "    + \" : \"\n",
        "    + x[\"description\"]\n",
        "    for x in wine_data\n",
        "    if x[\"country\"] is not None\n",
        "    and x[\"province\"] is not None\n",
        "    and x[\"variety\"] is not None\n",
        "    and x[\"description\"] is not None\n",
        "]"
      ]
    },
    {
      "cell_type": "code",
      "execution_count": 7,
      "id": "389c20de-0422-4c48-a7b4-6ee12a7bf0e2",
      "metadata": {
        "tags": [],
        "colab": {
          "base_uri": "https://localhost:8080/"
        },
        "id": "389c20de-0422-4c48-a7b4-6ee12a7bf0e2",
        "outputId": "1f11bd8b-481b-42e9-983b-cafbcac81c38"
      },
      "outputs": [
        {
          "output_type": "stream",
          "name": "stdout",
          "text": [
            "129907 recipes loaded\n"
          ]
        }
      ],
      "source": [
        "# Count the recipes\n",
        "n_wines = len(filtered_data)\n",
        "print(f\"{n_wines} recipes loaded\")"
      ]
    },
    {
      "cell_type": "code",
      "execution_count": 8,
      "id": "1b2e3cf7-e416-460e-874a-0dd9637bca36",
      "metadata": {
        "colab": {
          "base_uri": "https://localhost:8080/"
        },
        "id": "1b2e3cf7-e416-460e-874a-0dd9637bca36",
        "outputId": "f65e9498-e5ee-4937-e2d0-8ec764ba0d64"
      },
      "outputs": [
        {
          "output_type": "stream",
          "name": "stdout",
          "text": [
            "wine review : US : California : Pinot Noir : Oak and earth intermingle around robust aromas of wet forest floor in this vineyard-designated Pinot that hails from a high-elevation site. Small in production, it offers intense, full-bodied raspberry and blackberry steeped in smoky spice and smooth texture.\n"
          ]
        }
      ],
      "source": [
        "example = filtered_data[25]\n",
        "print(example)"
      ]
    },
    {
      "cell_type": "markdown",
      "id": "3f871aaf-d873-41c7-8946-e4eef7ac17c1",
      "metadata": {
        "id": "3f871aaf-d873-41c7-8946-e4eef7ac17c1"
      },
      "source": [
        "## 2. Tokenize the data <a name=\"tokenize\"></a>"
      ]
    },
    {
      "cell_type": "code",
      "execution_count": 9,
      "id": "5b2064fb-5dcc-4657-b470-0928d10e2ddc",
      "metadata": {
        "tags": [],
        "id": "5b2064fb-5dcc-4657-b470-0928d10e2ddc"
      },
      "outputs": [],
      "source": [
        "# Pad the punctuation, to treat them as separate 'words'\n",
        "def pad_punctuation(s):\n",
        "    s = re.sub(f\"([{string.punctuation}, '\\n'])\", r\" \\1 \", s)\n",
        "    s = re.sub(\" +\", \" \", s)\n",
        "    return s\n",
        "\n",
        "\n",
        "text_data = [pad_punctuation(x) for x in filtered_data]"
      ]
    },
    {
      "cell_type": "code",
      "execution_count": 10,
      "id": "b87d7c65-9a46-492a-a5c0-a043b0d252f3",
      "metadata": {
        "colab": {
          "base_uri": "https://localhost:8080/",
          "height": 52
        },
        "id": "b87d7c65-9a46-492a-a5c0-a043b0d252f3",
        "outputId": "567e422f-4edc-4ee9-d899-649dff9bb1d6"
      },
      "outputs": [
        {
          "output_type": "execute_result",
          "data": {
            "text/plain": [
              "'wine review : US : California : Pinot Noir : Oak and earth intermingle around robust aromas of wet forest floor in this vineyard - designated Pinot that hails from a high - elevation site . Small in production , it offers intense , full - bodied raspberry and blackberry steeped in smoky spice and smooth texture . '"
            ],
            "application/vnd.google.colaboratory.intrinsic+json": {
              "type": "string"
            }
          },
          "metadata": {},
          "execution_count": 10
        }
      ],
      "source": [
        "# Display an example of a recipe\n",
        "example_data = text_data[25]\n",
        "example_data"
      ]
    },
    {
      "cell_type": "code",
      "execution_count": 11,
      "id": "9834f916-b21a-4104-acc9-f28d3bd7a8c1",
      "metadata": {
        "tags": [],
        "id": "9834f916-b21a-4104-acc9-f28d3bd7a8c1"
      },
      "outputs": [],
      "source": [
        "# Convert to a Tensorflow Dataset\n",
        "text_ds = (\n",
        "    tf.data.Dataset.from_tensor_slices(text_data)\n",
        "    .batch(BATCH_SIZE)\n",
        "    .shuffle(1000)\n",
        ")"
      ]
    },
    {
      "cell_type": "code",
      "execution_count": 12,
      "id": "884c0bcb-0807-45a1-8f7e-a32f2c6fa4de",
      "metadata": {
        "id": "884c0bcb-0807-45a1-8f7e-a32f2c6fa4de"
      },
      "outputs": [],
      "source": [
        "# Create a vectorisation layer\n",
        "vectorize_layer = layers.TextVectorization(\n",
        "    standardize=\"lower\",\n",
        "    max_tokens=VOCAB_SIZE,\n",
        "    output_mode=\"int\",\n",
        "    output_sequence_length=MAX_LEN + 1,\n",
        ")"
      ]
    },
    {
      "cell_type": "code",
      "execution_count": 13,
      "id": "4d6dd34a-d905-497b-926a-405380ebcf98",
      "metadata": {
        "id": "4d6dd34a-d905-497b-926a-405380ebcf98"
      },
      "outputs": [],
      "source": [
        "# Adapt the layer to the training set\n",
        "vectorize_layer.adapt(text_ds)\n",
        "vocab = vectorize_layer.get_vocabulary()"
      ]
    },
    {
      "cell_type": "code",
      "execution_count": 14,
      "id": "f6c1c7ce-3cf0-40d4-a3dc-ab7090f69f2f",
      "metadata": {
        "colab": {
          "base_uri": "https://localhost:8080/"
        },
        "id": "f6c1c7ce-3cf0-40d4-a3dc-ab7090f69f2f",
        "outputId": "0f6cd872-59f4-411a-ae78-06d7eb49b49b"
      },
      "outputs": [
        {
          "output_type": "stream",
          "name": "stdout",
          "text": [
            "0: \n",
            "1: [UNK]\n",
            "2: :\n",
            "3: ,\n",
            "4: .\n",
            "5: and\n",
            "6: the\n",
            "7: wine\n",
            "8: a\n",
            "9: of\n"
          ]
        }
      ],
      "source": [
        "# Display some token:word mappings\n",
        "for i, word in enumerate(vocab[:10]):\n",
        "    print(f\"{i}: {word}\")"
      ]
    },
    {
      "cell_type": "code",
      "execution_count": 15,
      "id": "1cc30186-7ec6-4eb6-b29a-65df6714d321",
      "metadata": {
        "colab": {
          "base_uri": "https://localhost:8080/"
        },
        "id": "1cc30186-7ec6-4eb6-b29a-65df6714d321",
        "outputId": "af156f8a-1bef-4303-b16e-677465a30084"
      },
      "outputs": [
        {
          "output_type": "stream",
          "name": "stdout",
          "text": [
            "[   7   10    2   20    2   29    2   43   62    2   55    5  243 4145\n",
            "  453  634   26    9  497  499  667   17   12  142   14 2214   43   25\n",
            " 2484   32    8  223   14 2213  948    4  594   17  987    3   15   75\n",
            "  237    3   64   14   82   97    5   74 2633   17  198   49    5  125\n",
            "   77    4    0    0    0    0    0    0    0    0    0    0    0    0\n",
            "    0    0    0    0    0    0    0    0    0    0    0]\n"
          ]
        }
      ],
      "source": [
        "# Display the same example converted to ints\n",
        "example_tokenised = vectorize_layer(example_data)\n",
        "print(example_tokenised.numpy())"
      ]
    },
    {
      "cell_type": "markdown",
      "id": "8c195efb-84c6-4be0-a989-a7542188ad35",
      "metadata": {
        "id": "8c195efb-84c6-4be0-a989-a7542188ad35"
      },
      "source": [
        "## 3. Create the Training Set <a name=\"create\"></a>"
      ]
    },
    {
      "cell_type": "code",
      "execution_count": 16,
      "id": "740294a1-1a6b-4c89-92f2-036d7d1b788b",
      "metadata": {
        "id": "740294a1-1a6b-4c89-92f2-036d7d1b788b"
      },
      "outputs": [],
      "source": [
        "# Create the training set of recipes and the same text shifted by one word\n",
        "def prepare_inputs(text):\n",
        "    text = tf.expand_dims(text, -1)\n",
        "    tokenized_sentences = vectorize_layer(text)\n",
        "    x = tokenized_sentences[:, :-1]\n",
        "    y = tokenized_sentences[:, 1:]\n",
        "    return x, y\n",
        "\n",
        "\n",
        "train_ds = text_ds.map(prepare_inputs)"
      ]
    },
    {
      "cell_type": "code",
      "execution_count": 17,
      "id": "cad80ffb-4298-4249-86b4-9918d62534c5",
      "metadata": {
        "id": "cad80ffb-4298-4249-86b4-9918d62534c5"
      },
      "outputs": [],
      "source": [
        "example_input_output = train_ds.take(1).get_single_element()"
      ]
    },
    {
      "cell_type": "code",
      "execution_count": 18,
      "id": "67ff7263-f62d-44c1-997b-1aa99a393521",
      "metadata": {
        "colab": {
          "base_uri": "https://localhost:8080/"
        },
        "id": "67ff7263-f62d-44c1-997b-1aa99a393521",
        "outputId": "92d90372-2c21-4841-f7f0-7d9548959b5e"
      },
      "outputs": [
        {
          "output_type": "execute_result",
          "data": {
            "text/plain": [
              "<tf.Tensor: shape=(80,), dtype=int64, numpy=\n",
              "array([   7,   10,    2,  280,  536,    2, 1185,    2,   53,   27,    2,\n",
              "          8,  242, 1056,    9,  729,   18,   21, 7087,    3,  617,   16,\n",
              "          5,    6,  155,  816,    9,   44,  101,    4,   52, 1683,    3,\n",
              "       5647,    7,   11,    8,  555,   14,   19,  840,   46,  893, 1324,\n",
              "          4,    0,    0,    0,    0,    0,    0,    0,    0,    0,    0,\n",
              "          0,    0,    0,    0,    0,    0,    0,    0,    0,    0,    0,\n",
              "          0,    0,    0,    0,    0,    0,    0,    0,    0,    0,    0,\n",
              "          0,    0,    0])>"
            ]
          },
          "metadata": {},
          "execution_count": 18
        }
      ],
      "source": [
        "# Example Input\n",
        "example_input_output[0][0]"
      ]
    },
    {
      "cell_type": "code",
      "execution_count": 19,
      "id": "ef2e2cad-414c-4e6d-a2ac-6b9598f9dd01",
      "metadata": {
        "colab": {
          "base_uri": "https://localhost:8080/"
        },
        "id": "ef2e2cad-414c-4e6d-a2ac-6b9598f9dd01",
        "outputId": "e541ec8f-7ccd-466d-e740-41683a6259c0"
      },
      "outputs": [
        {
          "output_type": "execute_result",
          "data": {
            "text/plain": [
              "<tf.Tensor: shape=(80,), dtype=int64, numpy=\n",
              "array([  10,    2,  280,  536,    2, 1185,    2,   53,   27,    2,    8,\n",
              "        242, 1056,    9,  729,   18,   21, 7087,    3,  617,   16,    5,\n",
              "          6,  155,  816,    9,   44,  101,    4,   52, 1683,    3, 5647,\n",
              "          7,   11,    8,  555,   14,   19,  840,   46,  893, 1324,    4,\n",
              "          0,    0,    0,    0,    0,    0,    0,    0,    0,    0,    0,\n",
              "          0,    0,    0,    0,    0,    0,    0,    0,    0,    0,    0,\n",
              "          0,    0,    0,    0,    0,    0,    0,    0,    0,    0,    0,\n",
              "          0,    0,    0])>"
            ]
          },
          "metadata": {},
          "execution_count": 19
        }
      ],
      "source": [
        "# Example Output (shifted by one token)\n",
        "example_input_output[1][0]"
      ]
    },
    {
      "cell_type": "markdown",
      "id": "aff50401-3abe-4c10-bba8-b35bc13ad7d5",
      "metadata": {
        "tags": [],
        "id": "aff50401-3abe-4c10-bba8-b35bc13ad7d5"
      },
      "source": [
        "## 5. Create the causal attention mask function <a name=\"causal\"></a>"
      ]
    },
    {
      "cell_type": "code",
      "execution_count": 20,
      "id": "554a4184-61c2-4eb7-a063-d965586a8188",
      "metadata": {
        "colab": {
          "base_uri": "https://localhost:8080/"
        },
        "id": "554a4184-61c2-4eb7-a063-d965586a8188",
        "outputId": "f39803c6-02d4-4dbe-f7fe-bce86ac5c958"
      },
      "outputs": [
        {
          "output_type": "execute_result",
          "data": {
            "text/plain": [
              "array([[1, 1, 1, 1, 1, 1, 1, 1, 1, 1],\n",
              "       [0, 1, 1, 1, 1, 1, 1, 1, 1, 1],\n",
              "       [0, 0, 1, 1, 1, 1, 1, 1, 1, 1],\n",
              "       [0, 0, 0, 1, 1, 1, 1, 1, 1, 1],\n",
              "       [0, 0, 0, 0, 1, 1, 1, 1, 1, 1],\n",
              "       [0, 0, 0, 0, 0, 1, 1, 1, 1, 1],\n",
              "       [0, 0, 0, 0, 0, 0, 1, 1, 1, 1],\n",
              "       [0, 0, 0, 0, 0, 0, 0, 1, 1, 1],\n",
              "       [0, 0, 0, 0, 0, 0, 0, 0, 1, 1],\n",
              "       [0, 0, 0, 0, 0, 0, 0, 0, 0, 1]], dtype=int32)"
            ]
          },
          "metadata": {},
          "execution_count": 20
        }
      ],
      "source": [
        "def causal_attention_mask(batch_size, n_dest, n_src, dtype):\n",
        "    i = tf.range(n_dest)[:, None]\n",
        "    j = tf.range(n_src)\n",
        "    m = i >= j - n_src + n_dest\n",
        "    mask = tf.cast(m, dtype)\n",
        "    mask = tf.reshape(mask, [1, n_dest, n_src])\n",
        "    mult = tf.concat(\n",
        "        [tf.expand_dims(batch_size, -1), tf.constant([1, 1], dtype=tf.int32)], 0\n",
        "    )\n",
        "    return tf.tile(mask, mult)\n",
        "\n",
        "\n",
        "np.transpose(causal_attention_mask(1, 10, 10, dtype=tf.int32)[0])"
      ]
    },
    {
      "cell_type": "markdown",
      "id": "3501dbad-0860-40ad-b7d6-47950e37858f",
      "metadata": {
        "id": "3501dbad-0860-40ad-b7d6-47950e37858f"
      },
      "source": [
        "## 6. Create a Transformer Block layer <a name=\"transformer\"></a>"
      ]
    },
    {
      "cell_type": "code",
      "execution_count": 21,
      "id": "5285a1cb-fce1-46b1-b088-b596002fa9ae",
      "metadata": {
        "id": "5285a1cb-fce1-46b1-b088-b596002fa9ae"
      },
      "outputs": [],
      "source": [
        "class TransformerBlock(layers.Layer):\n",
        "    def __init__(self, num_heads, key_dim, embed_dim, ff_dim, dropout_rate=0.1):\n",
        "        super(TransformerBlock, self).__init__()\n",
        "        self.num_heads = num_heads\n",
        "        self.key_dim = key_dim\n",
        "        self.embed_dim = embed_dim\n",
        "        self.ff_dim = ff_dim\n",
        "        self.dropout_rate = dropout_rate\n",
        "        self.attn = layers.MultiHeadAttention(\n",
        "            num_heads, key_dim, output_shape=embed_dim\n",
        "        )\n",
        "        self.dropout_1 = layers.Dropout(self.dropout_rate)\n",
        "        self.ln_1 = layers.LayerNormalization(epsilon=1e-6)\n",
        "        self.ffn_1 = layers.Dense(self.ff_dim, activation=\"relu\")\n",
        "        self.ffn_2 = layers.Dense(self.embed_dim)\n",
        "        self.dropout_2 = layers.Dropout(self.dropout_rate)\n",
        "        self.ln_2 = layers.LayerNormalization(epsilon=1e-6)\n",
        "\n",
        "    def call(self, inputs):\n",
        "        input_shape = tf.shape(inputs)\n",
        "        batch_size = input_shape[0]\n",
        "        seq_len = input_shape[1]\n",
        "        causal_mask = causal_attention_mask(\n",
        "            batch_size, seq_len, seq_len, tf.bool\n",
        "        )\n",
        "        attention_output, attention_scores = self.attn(\n",
        "            inputs,\n",
        "            inputs,\n",
        "            attention_mask=causal_mask,\n",
        "            return_attention_scores=True,\n",
        "        )\n",
        "        attention_output = self.dropout_1(attention_output)\n",
        "        out1 = self.ln_1(inputs + attention_output)\n",
        "        ffn_1 = self.ffn_1(out1)\n",
        "        ffn_2 = self.ffn_2(ffn_1)\n",
        "        ffn_output = self.dropout_2(ffn_2)\n",
        "        return (self.ln_2(out1 + ffn_output), attention_scores)\n",
        "\n",
        "    def get_config(self):\n",
        "        config = super().get_config()\n",
        "        config.update(\n",
        "            {\n",
        "                \"key_dim\": self.key_dim,\n",
        "                \"embed_dim\": self.embed_dim,\n",
        "                \"num_heads\": self.num_heads,\n",
        "                \"ff_dim\": self.ff_dim,\n",
        "                \"dropout_rate\": self.dropout_rate,\n",
        "            }\n",
        "        )\n",
        "        return config"
      ]
    },
    {
      "cell_type": "markdown",
      "id": "076a6be0-9796-4974-9bcd-6ebbcfe7514e",
      "metadata": {
        "tags": [],
        "id": "076a6be0-9796-4974-9bcd-6ebbcfe7514e"
      },
      "source": [
        "## 7. Create the Token and Position Embedding <a name=\"embedder\"></a>"
      ]
    },
    {
      "cell_type": "code",
      "execution_count": 22,
      "id": "fdf5cb25-88ae-4026-9e21-c1e6b5094a2c",
      "metadata": {
        "id": "fdf5cb25-88ae-4026-9e21-c1e6b5094a2c"
      },
      "outputs": [],
      "source": [
        "class TokenAndPositionEmbedding(layers.Layer):\n",
        "    def __init__(self, max_len, vocab_size, embed_dim):\n",
        "        super(TokenAndPositionEmbedding, self).__init__()\n",
        "        self.max_len = max_len\n",
        "        self.vocab_size = vocab_size\n",
        "        self.embed_dim = embed_dim\n",
        "        self.token_emb = layers.Embedding(\n",
        "            input_dim=vocab_size, output_dim=embed_dim\n",
        "        )\n",
        "        self.pos_emb = layers.Embedding(input_dim=max_len, output_dim=embed_dim)\n",
        "\n",
        "    def call(self, x):\n",
        "        maxlen = tf.shape(x)[-1]\n",
        "        positions = tf.range(start=0, limit=maxlen, delta=1)\n",
        "        positions = self.pos_emb(positions)\n",
        "        x = self.token_emb(x)\n",
        "        return x + positions\n",
        "\n",
        "    def get_config(self):\n",
        "        config = super().get_config()\n",
        "        config.update(\n",
        "            {\n",
        "                \"max_len\": self.max_len,\n",
        "                \"vocab_size\": self.vocab_size,\n",
        "                \"embed_dim\": self.embed_dim,\n",
        "            }\n",
        "        )\n",
        "        return config"
      ]
    },
    {
      "cell_type": "markdown",
      "id": "aac2e2d4-5980-47e3-b5b0-6c41c0c2d152",
      "metadata": {
        "id": "aac2e2d4-5980-47e3-b5b0-6c41c0c2d152"
      },
      "source": [
        "## 8. Build the Transformer model <a name=\"transformer_decoder\"></a>"
      ]
    },
    {
      "cell_type": "code",
      "execution_count": 23,
      "id": "8c57596e-e17d-4959-b6e8-7581b0bace3a",
      "metadata": {
        "id": "8c57596e-e17d-4959-b6e8-7581b0bace3a"
      },
      "outputs": [],
      "source": [
        "inputs = layers.Input(shape=(None,), dtype=tf.int32)\n",
        "x = TokenAndPositionEmbedding(MAX_LEN, VOCAB_SIZE, EMBEDDING_DIM)(inputs)\n",
        "x, attention_scores = TransformerBlock(\n",
        "    N_HEADS, KEY_DIM, EMBEDDING_DIM, FEED_FORWARD_DIM\n",
        ")(x)\n",
        "outputs = layers.Dense(VOCAB_SIZE, activation=\"softmax\")(x)\n",
        "gpt = models.Model(inputs=inputs, outputs=[outputs, attention_scores])\n",
        "gpt.compile(\"adam\", loss=[losses.SparseCategoricalCrossentropy(), None])"
      ]
    },
    {
      "cell_type": "code",
      "execution_count": 24,
      "id": "1a1c3b0f-3382-444d-bb04-bae143ae5d61",
      "metadata": {
        "colab": {
          "base_uri": "https://localhost:8080/",
          "height": 291
        },
        "id": "1a1c3b0f-3382-444d-bb04-bae143ae5d61",
        "outputId": "aaf4b0f7-4f22-4236-edb1-9754f926ee3a"
      },
      "outputs": [
        {
          "output_type": "display_data",
          "data": {
            "text/plain": [
              "\u001b[1mModel: \"functional\"\u001b[0m\n"
            ],
            "text/html": [
              "<pre style=\"white-space:pre;overflow-x:auto;line-height:normal;font-family:Menlo,'DejaVu Sans Mono',consolas,'Courier New',monospace\"><span style=\"font-weight: bold\">Model: \"functional\"</span>\n",
              "</pre>\n"
            ]
          },
          "metadata": {}
        },
        {
          "output_type": "display_data",
          "data": {
            "text/plain": [
              "┏━━━━━━━━━━━━━━━━━━━━━━━━━━━━━━━━━━━━━━┳━━━━━━━━━━━━━━━━━━━━━━━━━━━━━┳━━━━━━━━━━━━━━━━━┓\n",
              "┃\u001b[1m \u001b[0m\u001b[1mLayer (type)                        \u001b[0m\u001b[1m \u001b[0m┃\u001b[1m \u001b[0m\u001b[1mOutput Shape               \u001b[0m\u001b[1m \u001b[0m┃\u001b[1m \u001b[0m\u001b[1m        Param #\u001b[0m\u001b[1m \u001b[0m┃\n",
              "┡━━━━━━━━━━━━━━━━━━━━━━━━━━━━━━━━━━━━━━╇━━━━━━━━━━━━━━━━━━━━━━━━━━━━━╇━━━━━━━━━━━━━━━━━┩\n",
              "│ input_layer (\u001b[38;5;33mInputLayer\u001b[0m)             │ (\u001b[38;5;45mNone\u001b[0m, \u001b[38;5;45mNone\u001b[0m)                │               \u001b[38;5;34m0\u001b[0m │\n",
              "├──────────────────────────────────────┼─────────────────────────────┼─────────────────┤\n",
              "│ token_and_position_embedding         │ (\u001b[38;5;45mNone\u001b[0m, \u001b[38;5;45mNone\u001b[0m, \u001b[38;5;34m256\u001b[0m)           │       \u001b[38;5;34m2,580,480\u001b[0m │\n",
              "│ (\u001b[38;5;33mTokenAndPositionEmbedding\u001b[0m)          │                             │                 │\n",
              "├──────────────────────────────────────┼─────────────────────────────┼─────────────────┤\n",
              "│ transformer_block (\u001b[38;5;33mTransformerBlock\u001b[0m) │ [(\u001b[38;5;45mNone\u001b[0m, \u001b[38;5;45mNone\u001b[0m, \u001b[38;5;34m256\u001b[0m), (\u001b[38;5;45mNone\u001b[0m,  │         \u001b[38;5;34m658,688\u001b[0m │\n",
              "│                                      │ \u001b[38;5;34m2\u001b[0m, \u001b[38;5;45mNone\u001b[0m, \u001b[38;5;45mNone\u001b[0m)]             │                 │\n",
              "├──────────────────────────────────────┼─────────────────────────────┼─────────────────┤\n",
              "│ dense_2 (\u001b[38;5;33mDense\u001b[0m)                      │ (\u001b[38;5;45mNone\u001b[0m, \u001b[38;5;45mNone\u001b[0m, \u001b[38;5;34m10000\u001b[0m)         │       \u001b[38;5;34m2,570,000\u001b[0m │\n",
              "└──────────────────────────────────────┴─────────────────────────────┴─────────────────┘\n"
            ],
            "text/html": [
              "<pre style=\"white-space:pre;overflow-x:auto;line-height:normal;font-family:Menlo,'DejaVu Sans Mono',consolas,'Courier New',monospace\">┏━━━━━━━━━━━━━━━━━━━━━━━━━━━━━━━━━━━━━━┳━━━━━━━━━━━━━━━━━━━━━━━━━━━━━┳━━━━━━━━━━━━━━━━━┓\n",
              "┃<span style=\"font-weight: bold\"> Layer (type)                         </span>┃<span style=\"font-weight: bold\"> Output Shape                </span>┃<span style=\"font-weight: bold\">         Param # </span>┃\n",
              "┡━━━━━━━━━━━━━━━━━━━━━━━━━━━━━━━━━━━━━━╇━━━━━━━━━━━━━━━━━━━━━━━━━━━━━╇━━━━━━━━━━━━━━━━━┩\n",
              "│ input_layer (<span style=\"color: #0087ff; text-decoration-color: #0087ff\">InputLayer</span>)             │ (<span style=\"color: #00d7ff; text-decoration-color: #00d7ff\">None</span>, <span style=\"color: #00d7ff; text-decoration-color: #00d7ff\">None</span>)                │               <span style=\"color: #00af00; text-decoration-color: #00af00\">0</span> │\n",
              "├──────────────────────────────────────┼─────────────────────────────┼─────────────────┤\n",
              "│ token_and_position_embedding         │ (<span style=\"color: #00d7ff; text-decoration-color: #00d7ff\">None</span>, <span style=\"color: #00d7ff; text-decoration-color: #00d7ff\">None</span>, <span style=\"color: #00af00; text-decoration-color: #00af00\">256</span>)           │       <span style=\"color: #00af00; text-decoration-color: #00af00\">2,580,480</span> │\n",
              "│ (<span style=\"color: #0087ff; text-decoration-color: #0087ff\">TokenAndPositionEmbedding</span>)          │                             │                 │\n",
              "├──────────────────────────────────────┼─────────────────────────────┼─────────────────┤\n",
              "│ transformer_block (<span style=\"color: #0087ff; text-decoration-color: #0087ff\">TransformerBlock</span>) │ [(<span style=\"color: #00d7ff; text-decoration-color: #00d7ff\">None</span>, <span style=\"color: #00d7ff; text-decoration-color: #00d7ff\">None</span>, <span style=\"color: #00af00; text-decoration-color: #00af00\">256</span>), (<span style=\"color: #00d7ff; text-decoration-color: #00d7ff\">None</span>,  │         <span style=\"color: #00af00; text-decoration-color: #00af00\">658,688</span> │\n",
              "│                                      │ <span style=\"color: #00af00; text-decoration-color: #00af00\">2</span>, <span style=\"color: #00d7ff; text-decoration-color: #00d7ff\">None</span>, <span style=\"color: #00d7ff; text-decoration-color: #00d7ff\">None</span>)]             │                 │\n",
              "├──────────────────────────────────────┼─────────────────────────────┼─────────────────┤\n",
              "│ dense_2 (<span style=\"color: #0087ff; text-decoration-color: #0087ff\">Dense</span>)                      │ (<span style=\"color: #00d7ff; text-decoration-color: #00d7ff\">None</span>, <span style=\"color: #00d7ff; text-decoration-color: #00d7ff\">None</span>, <span style=\"color: #00af00; text-decoration-color: #00af00\">10000</span>)         │       <span style=\"color: #00af00; text-decoration-color: #00af00\">2,570,000</span> │\n",
              "└──────────────────────────────────────┴─────────────────────────────┴─────────────────┘\n",
              "</pre>\n"
            ]
          },
          "metadata": {}
        },
        {
          "output_type": "display_data",
          "data": {
            "text/plain": [
              "\u001b[1m Total params: \u001b[0m\u001b[38;5;34m5,809,168\u001b[0m (22.16 MB)\n"
            ],
            "text/html": [
              "<pre style=\"white-space:pre;overflow-x:auto;line-height:normal;font-family:Menlo,'DejaVu Sans Mono',consolas,'Courier New',monospace\"><span style=\"font-weight: bold\"> Total params: </span><span style=\"color: #00af00; text-decoration-color: #00af00\">5,809,168</span> (22.16 MB)\n",
              "</pre>\n"
            ]
          },
          "metadata": {}
        },
        {
          "output_type": "display_data",
          "data": {
            "text/plain": [
              "\u001b[1m Trainable params: \u001b[0m\u001b[38;5;34m5,809,168\u001b[0m (22.16 MB)\n"
            ],
            "text/html": [
              "<pre style=\"white-space:pre;overflow-x:auto;line-height:normal;font-family:Menlo,'DejaVu Sans Mono',consolas,'Courier New',monospace\"><span style=\"font-weight: bold\"> Trainable params: </span><span style=\"color: #00af00; text-decoration-color: #00af00\">5,809,168</span> (22.16 MB)\n",
              "</pre>\n"
            ]
          },
          "metadata": {}
        },
        {
          "output_type": "display_data",
          "data": {
            "text/plain": [
              "\u001b[1m Non-trainable params: \u001b[0m\u001b[38;5;34m0\u001b[0m (0.00 B)\n"
            ],
            "text/html": [
              "<pre style=\"white-space:pre;overflow-x:auto;line-height:normal;font-family:Menlo,'DejaVu Sans Mono',consolas,'Courier New',monospace\"><span style=\"font-weight: bold\"> Non-trainable params: </span><span style=\"color: #00af00; text-decoration-color: #00af00\">0</span> (0.00 B)\n",
              "</pre>\n"
            ]
          },
          "metadata": {}
        }
      ],
      "source": [
        "gpt.summary()"
      ]
    },
    {
      "cell_type": "code",
      "execution_count": 25,
      "id": "800a3c6e-fb11-4792-b6bc-9a43a7c977ad",
      "metadata": {
        "tags": [],
        "id": "800a3c6e-fb11-4792-b6bc-9a43a7c977ad"
      },
      "outputs": [],
      "source": [
        "if LOAD_MODEL:\n",
        "    # model.load_weights('./models/model')\n",
        "    gpt = models.load_model(\"./models/gpt\", compile=True)"
      ]
    },
    {
      "cell_type": "markdown",
      "id": "35b14665-4359-447b-be58-3fd58ba69084",
      "metadata": {
        "id": "35b14665-4359-447b-be58-3fd58ba69084"
      },
      "source": [
        "## 9. Train the Transformer <a name=\"train\"></a>"
      ]
    },
    {
      "cell_type": "code",
      "execution_count": 26,
      "id": "3ddcff5f-829d-4449-99d2-9a3cb68f7d72",
      "metadata": {
        "id": "3ddcff5f-829d-4449-99d2-9a3cb68f7d72"
      },
      "outputs": [],
      "source": [
        "# Create a TextGenerator checkpoint\n",
        "class TextGenerator(callbacks.Callback):\n",
        "    def __init__(self, index_to_word, top_k=10):\n",
        "        self.index_to_word = index_to_word\n",
        "        self.word_to_index = {\n",
        "            word: index for index, word in enumerate(index_to_word)\n",
        "        }\n",
        "\n",
        "    def sample_from(self, probs, temperature):\n",
        "        probs = probs ** (1 / temperature)\n",
        "        probs = probs / np.sum(probs)\n",
        "        return np.random.choice(len(probs), p=probs), probs\n",
        "\n",
        "    def generate(self, start_prompt, max_tokens, temperature):\n",
        "        start_tokens = [\n",
        "            self.word_to_index.get(x, 1) for x in start_prompt.split()\n",
        "        ]\n",
        "        sample_token = None\n",
        "        info = []\n",
        "        while len(start_tokens) < max_tokens and sample_token != 0:\n",
        "            x = np.array([start_tokens])\n",
        "            y, att = self.model.predict(x, verbose=0)\n",
        "            sample_token, probs = self.sample_from(y[0][-1], temperature)\n",
        "            info.append(\n",
        "                {\n",
        "                    \"prompt\": start_prompt,\n",
        "                    \"word_probs\": probs,\n",
        "                    \"atts\": att[0, :, -1, :],\n",
        "                }\n",
        "            )\n",
        "            start_tokens.append(sample_token)\n",
        "            start_prompt = start_prompt + \" \" + self.index_to_word[sample_token]\n",
        "        print(f\"\\ngenerated text:\\n{start_prompt}\\n\")\n",
        "        return info\n",
        "\n",
        "    def on_epoch_end(self, epoch, logs=None):\n",
        "        self.generate(\"wine review\", max_tokens=80, temperature=1.0)"
      ]
    },
    {
      "cell_type": "code",
      "execution_count": 28,
      "id": "349865fe-ffbe-450e-97be-043ae1740e78",
      "metadata": {
        "id": "349865fe-ffbe-450e-97be-043ae1740e78"
      },
      "outputs": [],
      "source": [
        "# Create a model save checkpoint\n",
        "model_checkpoint_callback = callbacks.ModelCheckpoint(\n",
        "    filepath=\"./checkpoint/checkpoint.weights.h5\",\n",
        "    save_weights_only=True,\n",
        "    save_freq=\"epoch\",\n",
        "    verbose=0,\n",
        ")\n",
        "\n",
        "tensorboard_callback = callbacks.TensorBoard(log_dir=\"./logs\")\n",
        "\n",
        "# Tokenize starting prompt\n",
        "text_generator = TextGenerator(vocab)"
      ]
    },
    {
      "cell_type": "code",
      "execution_count": 29,
      "id": "461c2b3e-b5ae-4def-8bd9-e7bab8c63d8e",
      "metadata": {
        "tags": [],
        "colab": {
          "base_uri": "https://localhost:8080/"
        },
        "id": "461c2b3e-b5ae-4def-8bd9-e7bab8c63d8e",
        "outputId": "b854ee0e-301c-471e-e80f-e176490a1043"
      },
      "outputs": [
        {
          "output_type": "stream",
          "name": "stdout",
          "text": [
            "Epoch 1/5\n",
            "\u001b[1m4059/4060\u001b[0m \u001b[32m━━━━━━━━━━━━━━━━━━━\u001b[0m\u001b[37m━\u001b[0m \u001b[1m0s\u001b[0m 22ms/step - loss: 2.5889\n",
            "generated text:\n",
            "wine review : italy : piedmont : barbera : this is a compact barbera with a firmly tannic close with a crisp , elegant consistency and dense density . \n",
            "\n",
            "\u001b[1m4060/4060\u001b[0m \u001b[32m━━━━━━━━━━━━━━━━━━━━\u001b[0m\u001b[37m\u001b[0m \u001b[1m120s\u001b[0m 27ms/step - loss: 2.5887\n",
            "Epoch 2/5\n",
            "\u001b[1m4058/4060\u001b[0m \u001b[32m━━━━━━━━━━━━━━━━━━━\u001b[0m\u001b[37m━\u001b[0m \u001b[1m0s\u001b[0m 20ms/step - loss: 1.9763\n",
            "generated text:\n",
            "wine review : chile : maule valley : syrah : dry oak aromas include hints of raw wood grain and milk chocolate . this rustic carignan is sticky and hard on the palate . savory flavors of oak end things benefit from clarity as much as if the raspberries , black fruits on the finish . \n",
            "\n",
            "\u001b[1m4060/4060\u001b[0m \u001b[32m━━━━━━━━━━━━━━━━━━━━\u001b[0m\u001b[37m\u001b[0m \u001b[1m109s\u001b[0m 27ms/step - loss: 1.9763\n",
            "Epoch 3/5\n",
            "\u001b[1m4058/4060\u001b[0m \u001b[32m━━━━━━━━━━━━━━━━━━━\u001b[0m\u001b[37m━\u001b[0m \u001b[1m0s\u001b[0m 20ms/step - loss: 1.8919\n",
            "generated text:\n",
            "wine review : us : washington : gewürztraminer : the stone fruit and flowers inform the entry of this variety coming from a vineyard . light , floral jasmine notes emerge even though it seems to have mellowed . final acidity . \n",
            "\n",
            "\u001b[1m4060/4060\u001b[0m \u001b[32m━━━━━━━━━━━━━━━━━━━━\u001b[0m\u001b[37m\u001b[0m \u001b[1m85s\u001b[0m 21ms/step - loss: 1.8919\n",
            "Epoch 4/5\n",
            "\u001b[1m4058/4060\u001b[0m \u001b[32m━━━━━━━━━━━━━━━━━━━\u001b[0m\u001b[37m━\u001b[0m \u001b[1m0s\u001b[0m 20ms/step - loss: 1.8520\n",
            "generated text:\n",
            "wine review : france : loire valley : chenin blanc : this chenin is a great wine that is lively and still tightly textured with great acidity . dark tannins are still developing , so wait to drink this chenin blanc . it ' s intense and likely to be ready to be drunk packed with fruit . \n",
            "\n",
            "\u001b[1m4060/4060\u001b[0m \u001b[32m━━━━━━━━━━━━━━━━━━━━\u001b[0m\u001b[37m\u001b[0m \u001b[1m145s\u001b[0m 22ms/step - loss: 1.8520\n",
            "Epoch 5/5\n",
            "\u001b[1m4059/4060\u001b[0m \u001b[32m━━━━━━━━━━━━━━━━━━━\u001b[0m\u001b[37m━\u001b[0m \u001b[1m0s\u001b[0m 20ms/step - loss: 1.8139\n",
            "generated text:\n",
            "wine review : portugal : douro : portuguese red : lots of tannins , wood - aging flavors are given this wine by a stylish toast character . it ' s also a smooth , ripe , deliciously fruity wine , an attractive lift throughout . lay it ' s a serious bottle to age . enjoy the wine for years . drink from mid - 2017 . \n",
            "\n",
            "\u001b[1m4060/4060\u001b[0m \u001b[32m━━━━━━━━━━━━━━━━━━━━\u001b[0m\u001b[37m\u001b[0m \u001b[1m152s\u001b[0m 24ms/step - loss: 1.8139\n"
          ]
        },
        {
          "output_type": "execute_result",
          "data": {
            "text/plain": [
              "<keras.src.callbacks.history.History at 0x7a4e248f7a30>"
            ]
          },
          "metadata": {},
          "execution_count": 29
        }
      ],
      "source": [
        "gpt.fit(\n",
        "    train_ds,\n",
        "    epochs=EPOCHS,\n",
        "    callbacks=[model_checkpoint_callback, tensorboard_callback, text_generator],\n",
        ")"
      ]
    },
    {
      "cell_type": "code",
      "execution_count": 31,
      "id": "369bde44-2e39-4bc6-8549-a3a27ecce55c",
      "metadata": {
        "tags": [],
        "colab": {
          "base_uri": "https://localhost:8080/"
        },
        "id": "369bde44-2e39-4bc6-8549-a3a27ecce55c",
        "outputId": "0e79495d-a165-4f7c-be5c-4d896105f4b1"
      },
      "outputs": [
        {
          "output_type": "stream",
          "name": "stderr",
          "text": [
            "WARNING:absl:You are saving your model as an HDF5 file via `model.save()` or `keras.saving.save_model(model)`. This file format is considered legacy. We recommend using instead the native Keras format, e.g. `model.save('my_model.keras')` or `keras.saving.save_model(model, 'my_model.keras')`. \n"
          ]
        }
      ],
      "source": [
        "# Save the final model\n",
        "gpt.save(\"./models/gpt.h5\")"
      ]
    },
    {
      "cell_type": "markdown",
      "id": "d64e02d2-84dc-40c8-8446-40c09adf1e20",
      "metadata": {
        "id": "d64e02d2-84dc-40c8-8446-40c09adf1e20"
      },
      "source": [
        "# 3. Generate text using the Transformer"
      ]
    },
    {
      "cell_type": "code",
      "execution_count": 32,
      "id": "4ad23adb-3ec9-4e9a-9a59-b9f9bafca649",
      "metadata": {
        "id": "4ad23adb-3ec9-4e9a-9a59-b9f9bafca649"
      },
      "outputs": [],
      "source": [
        "def print_probs(info, vocab, top_k=5):\n",
        "    for i in info:\n",
        "        highlighted_text = []\n",
        "        for word, att_score in zip(\n",
        "            i[\"prompt\"].split(), np.mean(i[\"atts\"], axis=0)\n",
        "        ):\n",
        "            highlighted_text.append(\n",
        "                '<span style=\"background-color:rgba(135,206,250,'\n",
        "                + str(att_score / max(np.mean(i[\"atts\"], axis=0)))\n",
        "                + ');\">'\n",
        "                + word\n",
        "                + \"</span>\"\n",
        "            )\n",
        "        highlighted_text = \" \".join(highlighted_text)\n",
        "        display(HTML(highlighted_text))\n",
        "\n",
        "        word_probs = i[\"word_probs\"]\n",
        "        p_sorted = np.sort(word_probs)[::-1][:top_k]\n",
        "        i_sorted = np.argsort(word_probs)[::-1][:top_k]\n",
        "        for p, i in zip(p_sorted, i_sorted):\n",
        "            print(f\"{vocab[i]}:   \\t{np.round(100*p,2)}%\")\n",
        "        print(\"--------\\n\")"
      ]
    },
    {
      "cell_type": "code",
      "execution_count": 33,
      "id": "3cf25578-d47c-4b26-8252-fcdf2316a4ac",
      "metadata": {
        "colab": {
          "base_uri": "https://localhost:8080/"
        },
        "id": "3cf25578-d47c-4b26-8252-fcdf2316a4ac",
        "outputId": "1cb23194-9f70-42f0-d3ef-c32214b1d997"
      },
      "outputs": [
        {
          "output_type": "stream",
          "name": "stdout",
          "text": [
            "\n",
            "generated text:\n",
            "wine review : us : california : zinfandel : soft and buttery , this tastes young and fruity in blackberry and cherry sauce , with thin , sweet flavors of pear and raisins . a nice mix of acidity . \n",
            "\n"
          ]
        }
      ],
      "source": [
        "info = text_generator.generate(\n",
        "    \"wine review : us\", max_tokens=80, temperature=1.0\n",
        ")"
      ]
    },
    {
      "cell_type": "code",
      "execution_count": 34,
      "id": "4ae2da8e-9b7c-4b71-b37b-021115b3d7ea",
      "metadata": {
        "colab": {
          "base_uri": "https://localhost:8080/"
        },
        "id": "4ae2da8e-9b7c-4b71-b37b-021115b3d7ea",
        "outputId": "bc9c7003-3b65-46a2-ad94-42c0eefaa59d"
      },
      "outputs": [
        {
          "output_type": "stream",
          "name": "stdout",
          "text": [
            "\n",
            "generated text:\n",
            "wine review : italy : veneto : glera : this opens with aromas of acacia , acacia , toasted nut , ripe yellow apple and a whiff of honey . the creamy palate offers dried apricot , candied nectarine zest , lemon zest and a hint of bitter almond alongside brisk acidity . \n",
            "\n"
          ]
        }
      ],
      "source": [
        "info = text_generator.generate(\n",
        "    \"wine review : italy\", max_tokens=80, temperature=0.5\n",
        ")"
      ]
    },
    {
      "cell_type": "code",
      "execution_count": 35,
      "id": "5cae6d5d-263d-4455-b96c-f315cbe284ee",
      "metadata": {
        "colab": {
          "base_uri": "https://localhost:8080/",
          "height": 1000
        },
        "id": "5cae6d5d-263d-4455-b96c-f315cbe284ee",
        "outputId": "14b08f1d-552b-47ad-e4a0-c02ae76fc3b1"
      },
      "outputs": [
        {
          "output_type": "stream",
          "name": "stdout",
          "text": [
            "\n",
            "generated text:\n",
            "wine review : germany : mosel : riesling : a touch of smoke and spice lend a fresh , mineral tone to this dry , honeyed , sunny tangerine and peach flavors . it ' s a straightforward quaffer , showing a bit of spritz on the finish . \n",
            "\n"
          ]
        },
        {
          "output_type": "display_data",
          "data": {
            "text/plain": [
              "<IPython.core.display.HTML object>"
            ],
            "text/html": [
              "<span style=\"background-color:rgba(135,206,250,0.9814039);\">wine</span> <span style=\"background-color:rgba(135,206,250,1.0);\">review</span> <span style=\"background-color:rgba(135,206,250,0.4857006);\">:</span> <span style=\"background-color:rgba(135,206,250,0.23146169);\">germany</span>"
            ]
          },
          "metadata": {}
        },
        {
          "output_type": "stream",
          "name": "stdout",
          "text": [
            "::   \t100.0%\n",
            "-:   \t0.0%\n",
            "grosso:   \t0.0%\n",
            "[UNK]:   \t0.0%\n",
            "blanc:   \t0.0%\n",
            "--------\n",
            "\n"
          ]
        },
        {
          "output_type": "display_data",
          "data": {
            "text/plain": [
              "<IPython.core.display.HTML object>"
            ],
            "text/html": [
              "<span style=\"background-color:rgba(135,206,250,0.41907912);\">wine</span> <span style=\"background-color:rgba(135,206,250,0.4326875);\">review</span> <span style=\"background-color:rgba(135,206,250,0.24433793);\">:</span> <span style=\"background-color:rgba(135,206,250,1.0);\">germany</span> <span style=\"background-color:rgba(135,206,250,0.30932304);\">:</span>"
            ]
          },
          "metadata": {}
        },
        {
          "output_type": "stream",
          "name": "stdout",
          "text": [
            "mosel:   \t85.42%\n",
            "rheingau:   \t6.46%\n",
            "rheinhessen:   \t3.11%\n",
            "pfalz:   \t2.38%\n",
            "franken:   \t1.99%\n",
            "--------\n",
            "\n"
          ]
        },
        {
          "output_type": "display_data",
          "data": {
            "text/plain": [
              "<IPython.core.display.HTML object>"
            ],
            "text/html": [
              "<span style=\"background-color:rgba(135,206,250,0.953691);\">wine</span> <span style=\"background-color:rgba(135,206,250,1.0);\">review</span> <span style=\"background-color:rgba(135,206,250,0.24292986);\">:</span> <span style=\"background-color:rgba(135,206,250,0.12951261);\">germany</span> <span style=\"background-color:rgba(135,206,250,0.32090002);\">:</span> <span style=\"background-color:rgba(135,206,250,0.18003926);\">mosel</span>"
            ]
          },
          "metadata": {}
        },
        {
          "output_type": "stream",
          "name": "stdout",
          "text": [
            "::   \t98.89%\n",
            "-:   \t1.11%\n",
            "grosso:   \t0.0%\n",
            "[UNK]:   \t0.0%\n",
            "oil:   \t0.0%\n",
            "--------\n",
            "\n"
          ]
        },
        {
          "output_type": "display_data",
          "data": {
            "text/plain": [
              "<IPython.core.display.HTML object>"
            ],
            "text/html": [
              "<span style=\"background-color:rgba(135,206,250,0.3650187);\">wine</span> <span style=\"background-color:rgba(135,206,250,0.38822642);\">review</span> <span style=\"background-color:rgba(135,206,250,0.15491162);\">:</span> <span style=\"background-color:rgba(135,206,250,0.3896358);\">germany</span> <span style=\"background-color:rgba(135,206,250,0.10238955);\">:</span> <span style=\"background-color:rgba(135,206,250,1.0);\">mosel</span> <span style=\"background-color:rgba(135,206,250,0.14762038);\">:</span>"
            ]
          },
          "metadata": {}
        },
        {
          "output_type": "stream",
          "name": "stdout",
          "text": [
            "riesling:   \t99.98%\n",
            "pinot:   \t0.01%\n",
            "white:   \t0.0%\n",
            "sparkling:   \t0.0%\n",
            "rosé:   \t0.0%\n",
            "--------\n",
            "\n"
          ]
        },
        {
          "output_type": "display_data",
          "data": {
            "text/plain": [
              "<IPython.core.display.HTML object>"
            ],
            "text/html": [
              "<span style=\"background-color:rgba(135,206,250,0.8822559);\">wine</span> <span style=\"background-color:rgba(135,206,250,1.0);\">review</span> <span style=\"background-color:rgba(135,206,250,0.13745195);\">:</span> <span style=\"background-color:rgba(135,206,250,0.108380675);\">germany</span> <span style=\"background-color:rgba(135,206,250,0.14126681);\">:</span> <span style=\"background-color:rgba(135,206,250,0.26416922);\">mosel</span> <span style=\"background-color:rgba(135,206,250,0.21728963);\">:</span> <span style=\"background-color:rgba(135,206,250,0.08719426);\">riesling</span>"
            ]
          },
          "metadata": {}
        },
        {
          "output_type": "stream",
          "name": "stdout",
          "text": [
            "::   \t100.0%\n",
            "-:   \t0.0%\n",
            "grosso:   \t0.0%\n",
            "blanc:   \t0.0%\n",
            "du:   \t0.0%\n",
            "--------\n",
            "\n"
          ]
        },
        {
          "output_type": "display_data",
          "data": {
            "text/plain": [
              "<IPython.core.display.HTML object>"
            ],
            "text/html": [
              "<span style=\"background-color:rgba(135,206,250,0.82039136);\">wine</span> <span style=\"background-color:rgba(135,206,250,1.0);\">review</span> <span style=\"background-color:rgba(135,206,250,0.26999977);\">:</span> <span style=\"background-color:rgba(135,206,250,0.62576973);\">germany</span> <span style=\"background-color:rgba(135,206,250,0.19958939);\">:</span> <span style=\"background-color:rgba(135,206,250,0.90611976);\">mosel</span> <span style=\"background-color:rgba(135,206,250,0.42370647);\">:</span> <span style=\"background-color:rgba(135,206,250,0.64357936);\">riesling</span> <span style=\"background-color:rgba(135,206,250,0.4523518);\">:</span>"
            ]
          },
          "metadata": {}
        },
        {
          "output_type": "stream",
          "name": "stdout",
          "text": [
            "while:   \t33.45%\n",
            "a:   \t27.42%\n",
            "whiffs:   \t9.16%\n",
            "this:   \t5.9%\n",
            "[UNK]:   \t2.19%\n",
            "--------\n",
            "\n"
          ]
        },
        {
          "output_type": "display_data",
          "data": {
            "text/plain": [
              "<IPython.core.display.HTML object>"
            ],
            "text/html": [
              "<span style=\"background-color:rgba(135,206,250,1.0);\">wine</span> <span style=\"background-color:rgba(135,206,250,0.9589403);\">review</span> <span style=\"background-color:rgba(135,206,250,0.33346015);\">:</span> <span style=\"background-color:rgba(135,206,250,0.46148762);\">germany</span> <span style=\"background-color:rgba(135,206,250,0.32554242);\">:</span> <span style=\"background-color:rgba(135,206,250,0.54799);\">mosel</span> <span style=\"background-color:rgba(135,206,250,0.22213888);\">:</span> <span style=\"background-color:rgba(135,206,250,0.43369386);\">riesling</span> <span style=\"background-color:rgba(135,206,250,0.4365258);\">:</span> <span style=\"background-color:rgba(135,206,250,0.3597119);\">a</span>"
            ]
          },
          "metadata": {}
        },
        {
          "output_type": "stream",
          "name": "stdout",
          "text": [
            "bit:   \t37.82%\n",
            "whiff:   \t17.2%\n",
            "hint:   \t14.55%\n",
            "touch:   \t11.37%\n",
            "[UNK]:   \t1.48%\n",
            "--------\n",
            "\n"
          ]
        },
        {
          "output_type": "display_data",
          "data": {
            "text/plain": [
              "<IPython.core.display.HTML object>"
            ],
            "text/html": [
              "<span style=\"background-color:rgba(135,206,250,0.84094816);\">wine</span> <span style=\"background-color:rgba(135,206,250,1.0);\">review</span> <span style=\"background-color:rgba(135,206,250,0.17593344);\">:</span> <span style=\"background-color:rgba(135,206,250,0.1357553);\">germany</span> <span style=\"background-color:rgba(135,206,250,0.15035798);\">:</span> <span style=\"background-color:rgba(135,206,250,0.16300698);\">mosel</span> <span style=\"background-color:rgba(135,206,250,0.119349495);\">:</span> <span style=\"background-color:rgba(135,206,250,0.13160396);\">riesling</span> <span style=\"background-color:rgba(135,206,250,0.22744347);\">:</span> <span style=\"background-color:rgba(135,206,250,0.33120078);\">a</span> <span style=\"background-color:rgba(135,206,250,0.24156798);\">touch</span>"
            ]
          },
          "metadata": {}
        },
        {
          "output_type": "stream",
          "name": "stdout",
          "text": [
            "of:   \t99.87%\n",
            "blossomy:   \t0.04%\n",
            "off:   \t0.04%\n",
            "sweet:   \t0.03%\n",
            "weightier:   \t0.0%\n",
            "--------\n",
            "\n"
          ]
        },
        {
          "output_type": "display_data",
          "data": {
            "text/plain": [
              "<IPython.core.display.HTML object>"
            ],
            "text/html": [
              "<span style=\"background-color:rgba(135,206,250,0.5505764);\">wine</span> <span style=\"background-color:rgba(135,206,250,0.5505942);\">review</span> <span style=\"background-color:rgba(135,206,250,0.13467135);\">:</span> <span style=\"background-color:rgba(135,206,250,0.36728457);\">germany</span> <span style=\"background-color:rgba(135,206,250,0.11126825);\">:</span> <span style=\"background-color:rgba(135,206,250,0.55341);\">mosel</span> <span style=\"background-color:rgba(135,206,250,0.16053462);\">:</span> <span style=\"background-color:rgba(135,206,250,0.3315751);\">riesling</span> <span style=\"background-color:rgba(135,206,250,0.20089056);\">:</span> <span style=\"background-color:rgba(135,206,250,0.3937749);\">a</span> <span style=\"background-color:rgba(135,206,250,1.0);\">touch</span> <span style=\"background-color:rgba(135,206,250,0.21790457);\">of</span>"
            ]
          },
          "metadata": {}
        },
        {
          "output_type": "stream",
          "name": "stdout",
          "text": [
            "smoke:   \t46.9%\n",
            "petrol:   \t19.43%\n",
            "struck:   \t12.4%\n",
            "sweet:   \t3.12%\n",
            "sweetness:   \t2.94%\n",
            "--------\n",
            "\n"
          ]
        },
        {
          "output_type": "display_data",
          "data": {
            "text/plain": [
              "<IPython.core.display.HTML object>"
            ],
            "text/html": [
              "<span style=\"background-color:rgba(135,206,250,0.68098074);\">wine</span> <span style=\"background-color:rgba(135,206,250,1.0);\">review</span> <span style=\"background-color:rgba(135,206,250,0.07419757);\">:</span> <span style=\"background-color:rgba(135,206,250,0.24409315);\">germany</span> <span style=\"background-color:rgba(135,206,250,0.13605735);\">:</span> <span style=\"background-color:rgba(135,206,250,0.15165);\">mosel</span> <span style=\"background-color:rgba(135,206,250,0.12847102);\">:</span> <span style=\"background-color:rgba(135,206,250,0.10686993);\">riesling</span> <span style=\"background-color:rgba(135,206,250,0.14862566);\">:</span> <span style=\"background-color:rgba(135,206,250,0.4662815);\">a</span> <span style=\"background-color:rgba(135,206,250,0.64430976);\">touch</span> <span style=\"background-color:rgba(135,206,250,0.5890192);\">of</span> <span style=\"background-color:rgba(135,206,250,0.33081478);\">smoke</span>"
            ]
          },
          "metadata": {}
        },
        {
          "output_type": "stream",
          "name": "stdout",
          "text": [
            "lends:   \t46.19%\n",
            "and:   \t45.6%\n",
            "mingles:   \t2.93%\n",
            ",:   \t1.96%\n",
            "leads:   \t0.87%\n",
            "--------\n",
            "\n"
          ]
        },
        {
          "output_type": "display_data",
          "data": {
            "text/plain": [
              "<IPython.core.display.HTML object>"
            ],
            "text/html": [
              "<span style=\"background-color:rgba(135,206,250,0.27300686);\">wine</span> <span style=\"background-color:rgba(135,206,250,0.32970092);\">review</span> <span style=\"background-color:rgba(135,206,250,0.0917308);\">:</span> <span style=\"background-color:rgba(135,206,250,0.28898698);\">germany</span> <span style=\"background-color:rgba(135,206,250,0.14084998);\">:</span> <span style=\"background-color:rgba(135,206,250,0.23642837);\">mosel</span> <span style=\"background-color:rgba(135,206,250,0.07447965);\">:</span> <span style=\"background-color:rgba(135,206,250,0.24986367);\">riesling</span> <span style=\"background-color:rgba(135,206,250,0.103012376);\">:</span> <span style=\"background-color:rgba(135,206,250,0.17734511);\">a</span> <span style=\"background-color:rgba(135,206,250,0.38437095);\">touch</span> <span style=\"background-color:rgba(135,206,250,0.30945528);\">of</span> <span style=\"background-color:rgba(135,206,250,1.0);\">smoke</span> <span style=\"background-color:rgba(135,206,250,0.1774408);\">and</span>"
            ]
          },
          "metadata": {}
        },
        {
          "output_type": "stream",
          "name": "stdout",
          "text": [
            "spice:   \t16.96%\n",
            "crushed:   \t12.67%\n",
            "slate:   \t12.52%\n",
            "smoke:   \t11.07%\n",
            "mineral:   \t9.08%\n",
            "--------\n",
            "\n"
          ]
        },
        {
          "output_type": "display_data",
          "data": {
            "text/plain": [
              "<IPython.core.display.HTML object>"
            ],
            "text/html": [
              "<span style=\"background-color:rgba(135,206,250,0.65532124);\">wine</span> <span style=\"background-color:rgba(135,206,250,1.0);\">review</span> <span style=\"background-color:rgba(135,206,250,0.08946184);\">:</span> <span style=\"background-color:rgba(135,206,250,0.30404416);\">germany</span> <span style=\"background-color:rgba(135,206,250,0.18668279);\">:</span> <span style=\"background-color:rgba(135,206,250,0.15599553);\">mosel</span> <span style=\"background-color:rgba(135,206,250,0.1357206);\">:</span> <span style=\"background-color:rgba(135,206,250,0.12583962);\">riesling</span> <span style=\"background-color:rgba(135,206,250,0.14937536);\">:</span> <span style=\"background-color:rgba(135,206,250,0.3988125);\">a</span> <span style=\"background-color:rgba(135,206,250,0.567079);\">touch</span> <span style=\"background-color:rgba(135,206,250,0.5555901);\">of</span> <span style=\"background-color:rgba(135,206,250,0.38380122);\">smoke</span> <span style=\"background-color:rgba(135,206,250,0.8852111);\">and</span> <span style=\"background-color:rgba(135,206,250,0.38665745);\">spice</span>"
            ]
          },
          "metadata": {}
        },
        {
          "output_type": "stream",
          "name": "stdout",
          "text": [
            "lend:   \t57.52%\n",
            "accent:   \t13.5%\n",
            "aromas:   \t6.03%\n",
            "on:   \t3.24%\n",
            "meld:   \t3.08%\n",
            "--------\n",
            "\n"
          ]
        },
        {
          "output_type": "display_data",
          "data": {
            "text/plain": [
              "<IPython.core.display.HTML object>"
            ],
            "text/html": [
              "<span style=\"background-color:rgba(135,206,250,0.6309727);\">wine</span> <span style=\"background-color:rgba(135,206,250,1.0);\">review</span> <span style=\"background-color:rgba(135,206,250,0.16816215);\">:</span> <span style=\"background-color:rgba(135,206,250,0.23700276);\">germany</span> <span style=\"background-color:rgba(135,206,250,0.19227412);\">:</span> <span style=\"background-color:rgba(135,206,250,0.26394084);\">mosel</span> <span style=\"background-color:rgba(135,206,250,0.13754033);\">:</span> <span style=\"background-color:rgba(135,206,250,0.19066633);\">riesling</span> <span style=\"background-color:rgba(135,206,250,0.14095272);\">:</span> <span style=\"background-color:rgba(135,206,250,0.19612567);\">a</span> <span style=\"background-color:rgba(135,206,250,0.31435922);\">touch</span> <span style=\"background-color:rgba(135,206,250,0.24399881);\">of</span> <span style=\"background-color:rgba(135,206,250,0.4697908);\">smoke</span> <span style=\"background-color:rgba(135,206,250,0.3311435);\">and</span> <span style=\"background-color:rgba(135,206,250,0.40989524);\">spice</span> <span style=\"background-color:rgba(135,206,250,0.32931417);\">lend</span>"
            ]
          },
          "metadata": {}
        },
        {
          "output_type": "stream",
          "name": "stdout",
          "text": [
            "a:   \t93.2%\n",
            "an:   \t2.15%\n",
            "warmth:   \t1.84%\n",
            "complexity:   \t1.68%\n",
            "savory:   \t0.27%\n",
            "--------\n",
            "\n"
          ]
        },
        {
          "output_type": "display_data",
          "data": {
            "text/plain": [
              "<IPython.core.display.HTML object>"
            ],
            "text/html": [
              "<span style=\"background-color:rgba(135,206,250,0.2354112);\">wine</span> <span style=\"background-color:rgba(135,206,250,0.33377424);\">review</span> <span style=\"background-color:rgba(135,206,250,0.07074702);\">:</span> <span style=\"background-color:rgba(135,206,250,0.30950963);\">germany</span> <span style=\"background-color:rgba(135,206,250,0.095543586);\">:</span> <span style=\"background-color:rgba(135,206,250,0.24282837);\">mosel</span> <span style=\"background-color:rgba(135,206,250,0.05636414);\">:</span> <span style=\"background-color:rgba(135,206,250,0.23018001);\">riesling</span> <span style=\"background-color:rgba(135,206,250,0.096604586);\">:</span> <span style=\"background-color:rgba(135,206,250,0.0779175);\">a</span> <span style=\"background-color:rgba(135,206,250,0.22735183);\">touch</span> <span style=\"background-color:rgba(135,206,250,0.17070672);\">of</span> <span style=\"background-color:rgba(135,206,250,0.29830322);\">smoke</span> <span style=\"background-color:rgba(135,206,250,0.21721604);\">and</span> <span style=\"background-color:rgba(135,206,250,0.3841321);\">spice</span> <span style=\"background-color:rgba(135,206,250,1.0);\">lend</span> <span style=\"background-color:rgba(135,206,250,0.16523664);\">a</span>"
            ]
          },
          "metadata": {}
        },
        {
          "output_type": "stream",
          "name": "stdout",
          "text": [
            "savory:   \t85.88%\n",
            "fresh:   \t7.64%\n",
            "mineral:   \t0.98%\n",
            "crisp:   \t0.62%\n",
            "floral:   \t0.51%\n",
            "--------\n",
            "\n"
          ]
        },
        {
          "output_type": "display_data",
          "data": {
            "text/plain": [
              "<IPython.core.display.HTML object>"
            ],
            "text/html": [
              "<span style=\"background-color:rgba(135,206,250,0.2724942);\">wine</span> <span style=\"background-color:rgba(135,206,250,0.37912798);\">review</span> <span style=\"background-color:rgba(135,206,250,0.076281644);\">:</span> <span style=\"background-color:rgba(135,206,250,0.29390174);\">germany</span> <span style=\"background-color:rgba(135,206,250,0.11608497);\">:</span> <span style=\"background-color:rgba(135,206,250,0.21179615);\">mosel</span> <span style=\"background-color:rgba(135,206,250,0.096699476);\">:</span> <span style=\"background-color:rgba(135,206,250,0.29429156);\">riesling</span> <span style=\"background-color:rgba(135,206,250,0.11862263);\">:</span> <span style=\"background-color:rgba(135,206,250,0.15268447);\">a</span> <span style=\"background-color:rgba(135,206,250,0.24641675);\">touch</span> <span style=\"background-color:rgba(135,206,250,0.16338733);\">of</span> <span style=\"background-color:rgba(135,206,250,0.21878617);\">smoke</span> <span style=\"background-color:rgba(135,206,250,0.177315);\">and</span> <span style=\"background-color:rgba(135,206,250,0.35502014);\">spice</span> <span style=\"background-color:rgba(135,206,250,1.0);\">lend</span> <span style=\"background-color:rgba(135,206,250,0.65413624);\">a</span> <span style=\"background-color:rgba(135,206,250,0.18258207);\">fresh</span>"
            ]
          },
          "metadata": {}
        },
        {
          "output_type": "stream",
          "name": "stdout",
          "text": [
            ",:   \t74.35%\n",
            "tone:   \t10.82%\n",
            "apple:   \t7.42%\n",
            "character:   \t2.82%\n",
            "floral:   \t1.44%\n",
            "--------\n",
            "\n"
          ]
        },
        {
          "output_type": "display_data",
          "data": {
            "text/plain": [
              "<IPython.core.display.HTML object>"
            ],
            "text/html": [
              "<span style=\"background-color:rgba(135,206,250,0.2656608);\">wine</span> <span style=\"background-color:rgba(135,206,250,0.5207011);\">review</span> <span style=\"background-color:rgba(135,206,250,0.09041092);\">:</span> <span style=\"background-color:rgba(135,206,250,0.37349728);\">germany</span> <span style=\"background-color:rgba(135,206,250,0.12531577);\">:</span> <span style=\"background-color:rgba(135,206,250,0.23804422);\">mosel</span> <span style=\"background-color:rgba(135,206,250,0.088122174);\">:</span> <span style=\"background-color:rgba(135,206,250,0.30899832);\">riesling</span> <span style=\"background-color:rgba(135,206,250,0.13556962);\">:</span> <span style=\"background-color:rgba(135,206,250,0.14999242);\">a</span> <span style=\"background-color:rgba(135,206,250,0.28577152);\">touch</span> <span style=\"background-color:rgba(135,206,250,0.17772725);\">of</span> <span style=\"background-color:rgba(135,206,250,0.28372815);\">smoke</span> <span style=\"background-color:rgba(135,206,250,0.3246251);\">and</span> <span style=\"background-color:rgba(135,206,250,0.39739957);\">spice</span> <span style=\"background-color:rgba(135,206,250,1.0);\">lend</span> <span style=\"background-color:rgba(135,206,250,0.5154347);\">a</span> <span style=\"background-color:rgba(135,206,250,0.84739125);\">fresh</span> <span style=\"background-color:rgba(135,206,250,0.3727283);\">,</span>"
            ]
          },
          "metadata": {}
        },
        {
          "output_type": "stream",
          "name": "stdout",
          "text": [
            "mineral:   \t40.18%\n",
            "savory:   \t8.9%\n",
            "blossomy:   \t7.46%\n",
            "floral:   \t5.43%\n",
            "herbaceous:   \t3.72%\n",
            "--------\n",
            "\n"
          ]
        },
        {
          "output_type": "display_data",
          "data": {
            "text/plain": [
              "<IPython.core.display.HTML object>"
            ],
            "text/html": [
              "<span style=\"background-color:rgba(135,206,250,0.44491374);\">wine</span> <span style=\"background-color:rgba(135,206,250,0.74111784);\">review</span> <span style=\"background-color:rgba(135,206,250,0.096159086);\">:</span> <span style=\"background-color:rgba(135,206,250,0.35455438);\">germany</span> <span style=\"background-color:rgba(135,206,250,0.23470104);\">:</span> <span style=\"background-color:rgba(135,206,250,0.17466463);\">mosel</span> <span style=\"background-color:rgba(135,206,250,0.1449843);\">:</span> <span style=\"background-color:rgba(135,206,250,0.1621647);\">riesling</span> <span style=\"background-color:rgba(135,206,250,0.13873242);\">:</span> <span style=\"background-color:rgba(135,206,250,0.21405336);\">a</span> <span style=\"background-color:rgba(135,206,250,0.36193675);\">touch</span> <span style=\"background-color:rgba(135,206,250,0.30836126);\">of</span> <span style=\"background-color:rgba(135,206,250,0.1916762);\">smoke</span> <span style=\"background-color:rgba(135,206,250,0.23728186);\">and</span> <span style=\"background-color:rgba(135,206,250,0.21352422);\">spice</span> <span style=\"background-color:rgba(135,206,250,1.0);\">lend</span> <span style=\"background-color:rgba(135,206,250,0.7511275);\">a</span> <span style=\"background-color:rgba(135,206,250,0.3564257);\">fresh</span> <span style=\"background-color:rgba(135,206,250,0.7943308);\">,</span> <span style=\"background-color:rgba(135,206,250,0.32423955);\">mineral</span>"
            ]
          },
          "metadata": {}
        },
        {
          "output_type": "stream",
          "name": "stdout",
          "text": [
            "tone:   \t99.71%\n",
            "-:   \t0.15%\n",
            "character:   \t0.07%\n",
            "vibe:   \t0.01%\n",
            "edge:   \t0.01%\n",
            "--------\n",
            "\n"
          ]
        },
        {
          "output_type": "display_data",
          "data": {
            "text/plain": [
              "<IPython.core.display.HTML object>"
            ],
            "text/html": [
              "<span style=\"background-color:rgba(135,206,250,0.38168514);\">wine</span> <span style=\"background-color:rgba(135,206,250,1.0);\">review</span> <span style=\"background-color:rgba(135,206,250,0.07704056);\">:</span> <span style=\"background-color:rgba(135,206,250,0.20165579);\">germany</span> <span style=\"background-color:rgba(135,206,250,0.17478043);\">:</span> <span style=\"background-color:rgba(135,206,250,0.09382593);\">mosel</span> <span style=\"background-color:rgba(135,206,250,0.087313786);\">:</span> <span style=\"background-color:rgba(135,206,250,0.08774888);\">riesling</span> <span style=\"background-color:rgba(135,206,250,0.096227854);\">:</span> <span style=\"background-color:rgba(135,206,250,0.08178186);\">a</span> <span style=\"background-color:rgba(135,206,250,0.11390223);\">touch</span> <span style=\"background-color:rgba(135,206,250,0.15409961);\">of</span> <span style=\"background-color:rgba(135,206,250,0.08143923);\">smoke</span> <span style=\"background-color:rgba(135,206,250,0.10983806);\">and</span> <span style=\"background-color:rgba(135,206,250,0.12040652);\">spice</span> <span style=\"background-color:rgba(135,206,250,0.8280634);\">lend</span> <span style=\"background-color:rgba(135,206,250,0.20073181);\">a</span> <span style=\"background-color:rgba(135,206,250,0.11659309);\">fresh</span> <span style=\"background-color:rgba(135,206,250,0.475724);\">,</span> <span style=\"background-color:rgba(135,206,250,0.37971118);\">mineral</span> <span style=\"background-color:rgba(135,206,250,0.2753318);\">tone</span>"
            ]
          },
          "metadata": {}
        },
        {
          "output_type": "stream",
          "name": "stdout",
          "text": [
            "to:   \t99.99%\n",
            "in:   \t0.0%\n",
            "on:   \t0.0%\n",
            "and:   \t0.0%\n",
            "for:   \t0.0%\n",
            "--------\n",
            "\n"
          ]
        },
        {
          "output_type": "display_data",
          "data": {
            "text/plain": [
              "<IPython.core.display.HTML object>"
            ],
            "text/html": [
              "<span style=\"background-color:rgba(135,206,250,0.21511206);\">wine</span> <span style=\"background-color:rgba(135,206,250,0.38580695);\">review</span> <span style=\"background-color:rgba(135,206,250,0.07571096);\">:</span> <span style=\"background-color:rgba(135,206,250,0.265368);\">germany</span> <span style=\"background-color:rgba(135,206,250,0.115867354);\">:</span> <span style=\"background-color:rgba(135,206,250,0.15476128);\">mosel</span> <span style=\"background-color:rgba(135,206,250,0.0636119);\">:</span> <span style=\"background-color:rgba(135,206,250,0.1735286);\">riesling</span> <span style=\"background-color:rgba(135,206,250,0.07448552);\">:</span> <span style=\"background-color:rgba(135,206,250,0.07087973);\">a</span> <span style=\"background-color:rgba(135,206,250,0.14418216);\">touch</span> <span style=\"background-color:rgba(135,206,250,0.088260725);\">of</span> <span style=\"background-color:rgba(135,206,250,0.105504);\">smoke</span> <span style=\"background-color:rgba(135,206,250,0.08241467);\">and</span> <span style=\"background-color:rgba(135,206,250,0.13003516);\">spice</span> <span style=\"background-color:rgba(135,206,250,0.42876327);\">lend</span> <span style=\"background-color:rgba(135,206,250,0.13900267);\">a</span> <span style=\"background-color:rgba(135,206,250,0.1376346);\">fresh</span> <span style=\"background-color:rgba(135,206,250,0.29178753);\">,</span> <span style=\"background-color:rgba(135,206,250,0.43181995);\">mineral</span> <span style=\"background-color:rgba(135,206,250,1.0);\">tone</span> <span style=\"background-color:rgba(135,206,250,0.113095544);\">to</span>"
            ]
          },
          "metadata": {}
        },
        {
          "output_type": "stream",
          "name": "stdout",
          "text": [
            "this:   \t99.06%\n",
            "the:   \t0.43%\n",
            "fresh:   \t0.14%\n",
            "pristine:   \t0.11%\n",
            "bright:   \t0.08%\n",
            "--------\n",
            "\n"
          ]
        },
        {
          "output_type": "display_data",
          "data": {
            "text/plain": [
              "<IPython.core.display.HTML object>"
            ],
            "text/html": [
              "<span style=\"background-color:rgba(135,206,250,0.37472892);\">wine</span> <span style=\"background-color:rgba(135,206,250,1.0);\">review</span> <span style=\"background-color:rgba(135,206,250,0.20146884);\">:</span> <span style=\"background-color:rgba(135,206,250,0.94646937);\">germany</span> <span style=\"background-color:rgba(135,206,250,0.42522553);\">:</span> <span style=\"background-color:rgba(135,206,250,0.43258792);\">mosel</span> <span style=\"background-color:rgba(135,206,250,0.13317513);\">:</span> <span style=\"background-color:rgba(135,206,250,0.67865705);\">riesling</span> <span style=\"background-color:rgba(135,206,250,0.20449372);\">:</span> <span style=\"background-color:rgba(135,206,250,0.14537098);\">a</span> <span style=\"background-color:rgba(135,206,250,0.18511152);\">touch</span> <span style=\"background-color:rgba(135,206,250,0.112009026);\">of</span> <span style=\"background-color:rgba(135,206,250,0.12500124);\">smoke</span> <span style=\"background-color:rgba(135,206,250,0.105276816);\">and</span> <span style=\"background-color:rgba(135,206,250,0.14469218);\">spice</span> <span style=\"background-color:rgba(135,206,250,0.34456894);\">lend</span> <span style=\"background-color:rgba(135,206,250,0.1185052);\">a</span> <span style=\"background-color:rgba(135,206,250,0.27332765);\">fresh</span> <span style=\"background-color:rgba(135,206,250,0.43274587);\">,</span> <span style=\"background-color:rgba(135,206,250,0.36361614);\">mineral</span> <span style=\"background-color:rgba(135,206,250,0.55257654);\">tone</span> <span style=\"background-color:rgba(135,206,250,0.73890394);\">to</span> <span style=\"background-color:rgba(135,206,250,0.50322485);\">this</span>"
            ]
          },
          "metadata": {}
        },
        {
          "output_type": "stream",
          "name": "stdout",
          "text": [
            "dry:   \t55.27%\n",
            "spry:   \t8.7%\n",
            "off:   \t6.15%\n",
            "crisp:   \t5.4%\n",
            "zesty:   \t4.13%\n",
            "--------\n",
            "\n"
          ]
        },
        {
          "output_type": "display_data",
          "data": {
            "text/plain": [
              "<IPython.core.display.HTML object>"
            ],
            "text/html": [
              "<span style=\"background-color:rgba(135,206,250,0.14591737);\">wine</span> <span style=\"background-color:rgba(135,206,250,0.28706807);\">review</span> <span style=\"background-color:rgba(135,206,250,0.04344239);\">:</span> <span style=\"background-color:rgba(135,206,250,0.26594135);\">germany</span> <span style=\"background-color:rgba(135,206,250,0.087489285);\">:</span> <span style=\"background-color:rgba(135,206,250,0.16676284);\">mosel</span> <span style=\"background-color:rgba(135,206,250,0.06056595);\">:</span> <span style=\"background-color:rgba(135,206,250,0.33965018);\">riesling</span> <span style=\"background-color:rgba(135,206,250,0.084181756);\">:</span> <span style=\"background-color:rgba(135,206,250,0.072286785);\">a</span> <span style=\"background-color:rgba(135,206,250,0.12131024);\">touch</span> <span style=\"background-color:rgba(135,206,250,0.07324315);\">of</span> <span style=\"background-color:rgba(135,206,250,0.06361258);\">smoke</span> <span style=\"background-color:rgba(135,206,250,0.062034745);\">and</span> <span style=\"background-color:rgba(135,206,250,0.06984513);\">spice</span> <span style=\"background-color:rgba(135,206,250,0.19541092);\">lend</span> <span style=\"background-color:rgba(135,206,250,0.088323034);\">a</span> <span style=\"background-color:rgba(135,206,250,0.055457793);\">fresh</span> <span style=\"background-color:rgba(135,206,250,0.11909003);\">,</span> <span style=\"background-color:rgba(135,206,250,0.10454737);\">mineral</span> <span style=\"background-color:rgba(135,206,250,0.43996873);\">tone</span> <span style=\"background-color:rgba(135,206,250,0.32604125);\">to</span> <span style=\"background-color:rgba(135,206,250,1.0);\">this</span> <span style=\"background-color:rgba(135,206,250,0.18419456);\">dry</span>"
            ]
          },
          "metadata": {}
        },
        {
          "output_type": "stream",
          "name": "stdout",
          "text": [
            ",:   \t85.71%\n",
            "riesling:   \t12.01%\n",
            "-:   \t1.06%\n",
            "off:   \t0.51%\n",
            "wine:   \t0.48%\n",
            "--------\n",
            "\n"
          ]
        },
        {
          "output_type": "display_data",
          "data": {
            "text/plain": [
              "<IPython.core.display.HTML object>"
            ],
            "text/html": [
              "<span style=\"background-color:rgba(135,206,250,0.15535545);\">wine</span> <span style=\"background-color:rgba(135,206,250,0.36350235);\">review</span> <span style=\"background-color:rgba(135,206,250,0.08591869);\">:</span> <span style=\"background-color:rgba(135,206,250,0.3643912);\">germany</span> <span style=\"background-color:rgba(135,206,250,0.1759865);\">:</span> <span style=\"background-color:rgba(135,206,250,0.18285225);\">mosel</span> <span style=\"background-color:rgba(135,206,250,0.06745736);\">:</span> <span style=\"background-color:rgba(135,206,250,0.2686013);\">riesling</span> <span style=\"background-color:rgba(135,206,250,0.1064117);\">:</span> <span style=\"background-color:rgba(135,206,250,0.07362328);\">a</span> <span style=\"background-color:rgba(135,206,250,0.12564923);\">touch</span> <span style=\"background-color:rgba(135,206,250,0.0957846);\">of</span> <span style=\"background-color:rgba(135,206,250,0.11697505);\">smoke</span> <span style=\"background-color:rgba(135,206,250,0.11090414);\">and</span> <span style=\"background-color:rgba(135,206,250,0.11938828);\">spice</span> <span style=\"background-color:rgba(135,206,250,0.32838395);\">lend</span> <span style=\"background-color:rgba(135,206,250,0.10025243);\">a</span> <span style=\"background-color:rgba(135,206,250,0.17412554);\">fresh</span> <span style=\"background-color:rgba(135,206,250,0.09549157);\">,</span> <span style=\"background-color:rgba(135,206,250,0.24387985);\">mineral</span> <span style=\"background-color:rgba(135,206,250,0.3783344);\">tone</span> <span style=\"background-color:rgba(135,206,250,0.38754377);\">to</span> <span style=\"background-color:rgba(135,206,250,0.933905);\">this</span> <span style=\"background-color:rgba(135,206,250,1.0);\">dry</span> <span style=\"background-color:rgba(135,206,250,0.40288427);\">,</span>"
            ]
          },
          "metadata": {}
        },
        {
          "output_type": "stream",
          "name": "stdout",
          "text": [
            "crisp:   \t35.8%\n",
            "spry:   \t13.6%\n",
            "steely:   \t10.88%\n",
            "full:   \t9.07%\n",
            "medium:   \t8.75%\n",
            "--------\n",
            "\n"
          ]
        },
        {
          "output_type": "display_data",
          "data": {
            "text/plain": [
              "<IPython.core.display.HTML object>"
            ],
            "text/html": [
              "<span style=\"background-color:rgba(135,206,250,0.20301847);\">wine</span> <span style=\"background-color:rgba(135,206,250,0.39518413);\">review</span> <span style=\"background-color:rgba(135,206,250,0.10050004);\">:</span> <span style=\"background-color:rgba(135,206,250,0.47261006);\">germany</span> <span style=\"background-color:rgba(135,206,250,0.19161732);\">:</span> <span style=\"background-color:rgba(135,206,250,0.24372815);\">mosel</span> <span style=\"background-color:rgba(135,206,250,0.09515006);\">:</span> <span style=\"background-color:rgba(135,206,250,0.29472405);\">riesling</span> <span style=\"background-color:rgba(135,206,250,0.11534275);\">:</span> <span style=\"background-color:rgba(135,206,250,0.10980573);\">a</span> <span style=\"background-color:rgba(135,206,250,0.13404585);\">touch</span> <span style=\"background-color:rgba(135,206,250,0.07698884);\">of</span> <span style=\"background-color:rgba(135,206,250,0.11404304);\">smoke</span> <span style=\"background-color:rgba(135,206,250,0.08980381);\">and</span> <span style=\"background-color:rgba(135,206,250,0.13103384);\">spice</span> <span style=\"background-color:rgba(135,206,250,0.22609898);\">lend</span> <span style=\"background-color:rgba(135,206,250,0.13914843);\">a</span> <span style=\"background-color:rgba(135,206,250,0.088517234);\">fresh</span> <span style=\"background-color:rgba(135,206,250,0.14544976);\">,</span> <span style=\"background-color:rgba(135,206,250,0.17583178);\">mineral</span> <span style=\"background-color:rgba(135,206,250,0.44860795);\">tone</span> <span style=\"background-color:rgba(135,206,250,0.41883);\">to</span> <span style=\"background-color:rgba(135,206,250,1.0);\">this</span> <span style=\"background-color:rgba(135,206,250,0.30577293);\">dry</span> <span style=\"background-color:rgba(135,206,250,0.5626258);\">,</span> <span style=\"background-color:rgba(135,206,250,0.4202144);\">honeyed</span>"
            ]
          },
          "metadata": {}
        },
        {
          "output_type": "stream",
          "name": "stdout",
          "text": [
            ",:   \t42.75%\n",
            "riesling:   \t38.3%\n",
            "wine:   \t10.72%\n",
            "white:   \t3.97%\n",
            "-:   \t2.37%\n",
            "--------\n",
            "\n"
          ]
        },
        {
          "output_type": "display_data",
          "data": {
            "text/plain": [
              "<IPython.core.display.HTML object>"
            ],
            "text/html": [
              "<span style=\"background-color:rgba(135,206,250,0.13450232);\">wine</span> <span style=\"background-color:rgba(135,206,250,0.32323226);\">review</span> <span style=\"background-color:rgba(135,206,250,0.08647527);\">:</span> <span style=\"background-color:rgba(135,206,250,0.3731335);\">germany</span> <span style=\"background-color:rgba(135,206,250,0.22065406);\">:</span> <span style=\"background-color:rgba(135,206,250,0.1713323);\">mosel</span> <span style=\"background-color:rgba(135,206,250,0.06272084);\">:</span> <span style=\"background-color:rgba(135,206,250,0.25675753);\">riesling</span> <span style=\"background-color:rgba(135,206,250,0.0983136);\">:</span> <span style=\"background-color:rgba(135,206,250,0.061234154);\">a</span> <span style=\"background-color:rgba(135,206,250,0.10410685);\">touch</span> <span style=\"background-color:rgba(135,206,250,0.08268263);\">of</span> <span style=\"background-color:rgba(135,206,250,0.10332984);\">smoke</span> <span style=\"background-color:rgba(135,206,250,0.09045464);\">and</span> <span style=\"background-color:rgba(135,206,250,0.09997128);\">spice</span> <span style=\"background-color:rgba(135,206,250,0.28000876);\">lend</span> <span style=\"background-color:rgba(135,206,250,0.07257632);\">a</span> <span style=\"background-color:rgba(135,206,250,0.13358876);\">fresh</span> <span style=\"background-color:rgba(135,206,250,0.07489913);\">,</span> <span style=\"background-color:rgba(135,206,250,0.1721982);\">mineral</span> <span style=\"background-color:rgba(135,206,250,0.23598251);\">tone</span> <span style=\"background-color:rgba(135,206,250,0.2322319);\">to</span> <span style=\"background-color:rgba(135,206,250,0.6170758);\">this</span> <span style=\"background-color:rgba(135,206,250,0.6053423);\">dry</span> <span style=\"background-color:rgba(135,206,250,0.26705644);\">,</span> <span style=\"background-color:rgba(135,206,250,1.0);\">honeyed</span> <span style=\"background-color:rgba(135,206,250,0.55695724);\">,</span>"
            ]
          },
          "metadata": {}
        },
        {
          "output_type": "stream",
          "name": "stdout",
          "text": [
            "full:   \t38.14%\n",
            "medium:   \t13.97%\n",
            "crisp:   \t4.84%\n",
            "honeyed:   \t4.48%\n",
            "almost:   \t2.8%\n",
            "--------\n",
            "\n"
          ]
        },
        {
          "output_type": "display_data",
          "data": {
            "text/plain": [
              "<IPython.core.display.HTML object>"
            ],
            "text/html": [
              "<span style=\"background-color:rgba(135,206,250,0.34461826);\">wine</span> <span style=\"background-color:rgba(135,206,250,0.61421776);\">review</span> <span style=\"background-color:rgba(135,206,250,0.16960867);\">:</span> <span style=\"background-color:rgba(135,206,250,0.6534097);\">germany</span> <span style=\"background-color:rgba(135,206,250,0.5197272);\">:</span> <span style=\"background-color:rgba(135,206,250,0.34793723);\">mosel</span> <span style=\"background-color:rgba(135,206,250,0.14780045);\">:</span> <span style=\"background-color:rgba(135,206,250,0.4208709);\">riesling</span> <span style=\"background-color:rgba(135,206,250,0.17601052);\">:</span> <span style=\"background-color:rgba(135,206,250,0.12362617);\">a</span> <span style=\"background-color:rgba(135,206,250,0.113868736);\">touch</span> <span style=\"background-color:rgba(135,206,250,0.09100405);\">of</span> <span style=\"background-color:rgba(135,206,250,0.10840116);\">smoke</span> <span style=\"background-color:rgba(135,206,250,0.09211725);\">and</span> <span style=\"background-color:rgba(135,206,250,0.09943979);\">spice</span> <span style=\"background-color:rgba(135,206,250,0.21643741);\">lend</span> <span style=\"background-color:rgba(135,206,250,0.10738587);\">a</span> <span style=\"background-color:rgba(135,206,250,0.06363842);\">fresh</span> <span style=\"background-color:rgba(135,206,250,0.14395496);\">,</span> <span style=\"background-color:rgba(135,206,250,0.17954257);\">mineral</span> <span style=\"background-color:rgba(135,206,250,0.32595497);\">tone</span> <span style=\"background-color:rgba(135,206,250,0.30042434);\">to</span> <span style=\"background-color:rgba(135,206,250,0.8163358);\">this</span> <span style=\"background-color:rgba(135,206,250,0.25553954);\">dry</span> <span style=\"background-color:rgba(135,206,250,0.51956165);\">,</span> <span style=\"background-color:rgba(135,206,250,0.5092199);\">honeyed</span> <span style=\"background-color:rgba(135,206,250,1.0);\">,</span> <span style=\"background-color:rgba(135,206,250,0.56212956);\">sunny</span>"
            ]
          },
          "metadata": {}
        },
        {
          "output_type": "stream",
          "name": "stdout",
          "text": [
            "tangerine:   \t69.53%\n",
            "white:   \t11.81%\n",
            "peach:   \t5.13%\n",
            ",:   \t3.03%\n",
            "yellow:   \t2.9%\n",
            "--------\n",
            "\n"
          ]
        },
        {
          "output_type": "display_data",
          "data": {
            "text/plain": [
              "<IPython.core.display.HTML object>"
            ],
            "text/html": [
              "<span style=\"background-color:rgba(135,206,250,0.24802373);\">wine</span> <span style=\"background-color:rgba(135,206,250,0.64958096);\">review</span> <span style=\"background-color:rgba(135,206,250,0.12928078);\">:</span> <span style=\"background-color:rgba(135,206,250,0.5243241);\">germany</span> <span style=\"background-color:rgba(135,206,250,0.41577205);\">:</span> <span style=\"background-color:rgba(135,206,250,0.17905763);\">mosel</span> <span style=\"background-color:rgba(135,206,250,0.10893683);\">:</span> <span style=\"background-color:rgba(135,206,250,0.12172825);\">riesling</span> <span style=\"background-color:rgba(135,206,250,0.09774005);\">:</span> <span style=\"background-color:rgba(135,206,250,0.14534053);\">a</span> <span style=\"background-color:rgba(135,206,250,0.12733167);\">touch</span> <span style=\"background-color:rgba(135,206,250,0.09362363);\">of</span> <span style=\"background-color:rgba(135,206,250,0.09750999);\">smoke</span> <span style=\"background-color:rgba(135,206,250,0.08064294);\">and</span> <span style=\"background-color:rgba(135,206,250,0.10725244);\">spice</span> <span style=\"background-color:rgba(135,206,250,0.25077513);\">lend</span> <span style=\"background-color:rgba(135,206,250,0.16846545);\">a</span> <span style=\"background-color:rgba(135,206,250,0.069255725);\">fresh</span> <span style=\"background-color:rgba(135,206,250,0.13148504);\">,</span> <span style=\"background-color:rgba(135,206,250,0.0999601);\">mineral</span> <span style=\"background-color:rgba(135,206,250,0.26728052);\">tone</span> <span style=\"background-color:rgba(135,206,250,0.22097619);\">to</span> <span style=\"background-color:rgba(135,206,250,0.50335354);\">this</span> <span style=\"background-color:rgba(135,206,250,0.32807046);\">dry</span> <span style=\"background-color:rgba(135,206,250,0.4229982);\">,</span> <span style=\"background-color:rgba(135,206,250,0.5164661);\">honeyed</span> <span style=\"background-color:rgba(135,206,250,0.8448259);\">,</span> <span style=\"background-color:rgba(135,206,250,1.0);\">sunny</span> <span style=\"background-color:rgba(135,206,250,0.543899);\">tangerine</span>"
            ]
          },
          "metadata": {}
        },
        {
          "output_type": "stream",
          "name": "stdout",
          "text": [
            "and:   \t99.81%\n",
            ",:   \t0.15%\n",
            "-:   \t0.02%\n",
            "acidity:   \t0.01%\n",
            "flavors:   \t0.0%\n",
            "--------\n",
            "\n"
          ]
        },
        {
          "output_type": "display_data",
          "data": {
            "text/plain": [
              "<IPython.core.display.HTML object>"
            ],
            "text/html": [
              "<span style=\"background-color:rgba(135,206,250,0.08198995);\">wine</span> <span style=\"background-color:rgba(135,206,250,0.15335408);\">review</span> <span style=\"background-color:rgba(135,206,250,0.045213554);\">:</span> <span style=\"background-color:rgba(135,206,250,0.2573077);\">germany</span> <span style=\"background-color:rgba(135,206,250,0.12397846);\">:</span> <span style=\"background-color:rgba(135,206,250,0.1566734);\">mosel</span> <span style=\"background-color:rgba(135,206,250,0.036257364);\">:</span> <span style=\"background-color:rgba(135,206,250,0.20392744);\">riesling</span> <span style=\"background-color:rgba(135,206,250,0.057281084);\">:</span> <span style=\"background-color:rgba(135,206,250,0.034789328);\">a</span> <span style=\"background-color:rgba(135,206,250,0.04105443);\">touch</span> <span style=\"background-color:rgba(135,206,250,0.025900494);\">of</span> <span style=\"background-color:rgba(135,206,250,0.06426797);\">smoke</span> <span style=\"background-color:rgba(135,206,250,0.031422805);\">and</span> <span style=\"background-color:rgba(135,206,250,0.05386767);\">spice</span> <span style=\"background-color:rgba(135,206,250,0.069117814);\">lend</span> <span style=\"background-color:rgba(135,206,250,0.027407391);\">a</span> <span style=\"background-color:rgba(135,206,250,0.07187181);\">fresh</span> <span style=\"background-color:rgba(135,206,250,0.04173489);\">,</span> <span style=\"background-color:rgba(135,206,250,0.07840154);\">mineral</span> <span style=\"background-color:rgba(135,206,250,0.073406674);\">tone</span> <span style=\"background-color:rgba(135,206,250,0.04479036);\">to</span> <span style=\"background-color:rgba(135,206,250,0.08035379);\">this</span> <span style=\"background-color:rgba(135,206,250,0.13814269);\">dry</span> <span style=\"background-color:rgba(135,206,250,0.15799718);\">,</span> <span style=\"background-color:rgba(135,206,250,0.23026265);\">honeyed</span> <span style=\"background-color:rgba(135,206,250,0.37112218);\">,</span> <span style=\"background-color:rgba(135,206,250,0.48965937);\">sunny</span> <span style=\"background-color:rgba(135,206,250,1.0);\">tangerine</span> <span style=\"background-color:rgba(135,206,250,0.1667642);\">and</span>"
            ]
          },
          "metadata": {}
        },
        {
          "output_type": "stream",
          "name": "stdout",
          "text": [
            "tangerine:   \t39.72%\n",
            "lemon:   \t21.86%\n",
            "peach:   \t16.58%\n",
            "yellow:   \t9.93%\n",
            "grapefruit:   \t3.9%\n",
            "--------\n",
            "\n"
          ]
        },
        {
          "output_type": "display_data",
          "data": {
            "text/plain": [
              "<IPython.core.display.HTML object>"
            ],
            "text/html": [
              "<span style=\"background-color:rgba(135,206,250,0.12701567);\">wine</span> <span style=\"background-color:rgba(135,206,250,0.32417896);\">review</span> <span style=\"background-color:rgba(135,206,250,0.08817947);\">:</span> <span style=\"background-color:rgba(135,206,250,0.40075806);\">germany</span> <span style=\"background-color:rgba(135,206,250,0.30737582);\">:</span> <span style=\"background-color:rgba(135,206,250,0.11944551);\">mosel</span> <span style=\"background-color:rgba(135,206,250,0.07191379);\">:</span> <span style=\"background-color:rgba(135,206,250,0.08643209);\">riesling</span> <span style=\"background-color:rgba(135,206,250,0.06340133);\">:</span> <span style=\"background-color:rgba(135,206,250,0.07356973);\">a</span> <span style=\"background-color:rgba(135,206,250,0.08633013);\">touch</span> <span style=\"background-color:rgba(135,206,250,0.06868629);\">of</span> <span style=\"background-color:rgba(135,206,250,0.073976584);\">smoke</span> <span style=\"background-color:rgba(135,206,250,0.052285824);\">and</span> <span style=\"background-color:rgba(135,206,250,0.0700332);\">spice</span> <span style=\"background-color:rgba(135,206,250,0.17623481);\">lend</span> <span style=\"background-color:rgba(135,206,250,0.08336792);\">a</span> <span style=\"background-color:rgba(135,206,250,0.047429815);\">fresh</span> <span style=\"background-color:rgba(135,206,250,0.07567888);\">,</span> <span style=\"background-color:rgba(135,206,250,0.07302338);\">mineral</span> <span style=\"background-color:rgba(135,206,250,0.15357801);\">tone</span> <span style=\"background-color:rgba(135,206,250,0.12711145);\">to</span> <span style=\"background-color:rgba(135,206,250,0.24931349);\">this</span> <span style=\"background-color:rgba(135,206,250,0.16665109);\">dry</span> <span style=\"background-color:rgba(135,206,250,0.20234887);\">,</span> <span style=\"background-color:rgba(135,206,250,0.22360909);\">honeyed</span> <span style=\"background-color:rgba(135,206,250,0.39095193);\">,</span> <span style=\"background-color:rgba(135,206,250,0.44640574);\">sunny</span> <span style=\"background-color:rgba(135,206,250,0.2952961);\">tangerine</span> <span style=\"background-color:rgba(135,206,250,1.0);\">and</span> <span style=\"background-color:rgba(135,206,250,0.37914696);\">peach</span>"
            ]
          },
          "metadata": {}
        },
        {
          "output_type": "stream",
          "name": "stdout",
          "text": [
            "flavors:   \t99.59%\n",
            "notes:   \t0.27%\n",
            "-:   \t0.08%\n",
            "on:   \t0.02%\n",
            ".:   \t0.01%\n",
            "--------\n",
            "\n"
          ]
        },
        {
          "output_type": "display_data",
          "data": {
            "text/plain": [
              "<IPython.core.display.HTML object>"
            ],
            "text/html": [
              "<span style=\"background-color:rgba(135,206,250,0.19827983);\">wine</span> <span style=\"background-color:rgba(135,206,250,0.6070467);\">review</span> <span style=\"background-color:rgba(135,206,250,0.16063134);\">:</span> <span style=\"background-color:rgba(135,206,250,0.44048464);\">germany</span> <span style=\"background-color:rgba(135,206,250,0.5011715);\">:</span> <span style=\"background-color:rgba(135,206,250,0.12628059);\">mosel</span> <span style=\"background-color:rgba(135,206,250,0.103667416);\">:</span> <span style=\"background-color:rgba(135,206,250,0.117067836);\">riesling</span> <span style=\"background-color:rgba(135,206,250,0.1019041);\">:</span> <span style=\"background-color:rgba(135,206,250,0.055559643);\">a</span> <span style=\"background-color:rgba(135,206,250,0.13292778);\">touch</span> <span style=\"background-color:rgba(135,206,250,0.087137245);\">of</span> <span style=\"background-color:rgba(135,206,250,0.07885773);\">smoke</span> <span style=\"background-color:rgba(135,206,250,0.052831445);\">and</span> <span style=\"background-color:rgba(135,206,250,0.092502475);\">spice</span> <span style=\"background-color:rgba(135,206,250,0.29144534);\">lend</span> <span style=\"background-color:rgba(135,206,250,0.054998405);\">a</span> <span style=\"background-color:rgba(135,206,250,0.053672526);\">fresh</span> <span style=\"background-color:rgba(135,206,250,0.09933378);\">,</span> <span style=\"background-color:rgba(135,206,250,0.097423136);\">mineral</span> <span style=\"background-color:rgba(135,206,250,0.15002881);\">tone</span> <span style=\"background-color:rgba(135,206,250,0.13175614);\">to</span> <span style=\"background-color:rgba(135,206,250,0.23520601);\">this</span> <span style=\"background-color:rgba(135,206,250,0.16992824);\">dry</span> <span style=\"background-color:rgba(135,206,250,0.2878432);\">,</span> <span style=\"background-color:rgba(135,206,250,0.22466636);\">honeyed</span> <span style=\"background-color:rgba(135,206,250,0.47466168);\">,</span> <span style=\"background-color:rgba(135,206,250,0.22801961);\">sunny</span> <span style=\"background-color:rgba(135,206,250,0.54392934);\">tangerine</span> <span style=\"background-color:rgba(135,206,250,0.67279583);\">and</span> <span style=\"background-color:rgba(135,206,250,1.0);\">peach</span> <span style=\"background-color:rgba(135,206,250,0.472955);\">flavors</span>"
            ]
          },
          "metadata": {}
        },
        {
          "output_type": "stream",
          "name": "stdout",
          "text": [
            ".:   \t86.75%\n",
            "on:   \t10.29%\n",
            "in:   \t2.16%\n",
            "that:   \t0.39%\n",
            ",:   \t0.22%\n",
            "--------\n",
            "\n"
          ]
        },
        {
          "output_type": "display_data",
          "data": {
            "text/plain": [
              "<IPython.core.display.HTML object>"
            ],
            "text/html": [
              "<span style=\"background-color:rgba(135,206,250,0.19703864);\">wine</span> <span style=\"background-color:rgba(135,206,250,1.0);\">review</span> <span style=\"background-color:rgba(135,206,250,0.414694);\">:</span> <span style=\"background-color:rgba(135,206,250,0.88418883);\">germany</span> <span style=\"background-color:rgba(135,206,250,0.2866101);\">:</span> <span style=\"background-color:rgba(135,206,250,0.33575612);\">mosel</span> <span style=\"background-color:rgba(135,206,250,0.25205785);\">:</span> <span style=\"background-color:rgba(135,206,250,0.45539224);\">riesling</span> <span style=\"background-color:rgba(135,206,250,0.18899171);\">:</span> <span style=\"background-color:rgba(135,206,250,0.07384855);\">a</span> <span style=\"background-color:rgba(135,206,250,0.082247876);\">touch</span> <span style=\"background-color:rgba(135,206,250,0.06380472);\">of</span> <span style=\"background-color:rgba(135,206,250,0.09014448);\">smoke</span> <span style=\"background-color:rgba(135,206,250,0.07122617);\">and</span> <span style=\"background-color:rgba(135,206,250,0.110823214);\">spice</span> <span style=\"background-color:rgba(135,206,250,0.1401618);\">lend</span> <span style=\"background-color:rgba(135,206,250,0.06003205);\">a</span> <span style=\"background-color:rgba(135,206,250,0.09734857);\">fresh</span> <span style=\"background-color:rgba(135,206,250,0.08256513);\">,</span> <span style=\"background-color:rgba(135,206,250,0.11819734);\">mineral</span> <span style=\"background-color:rgba(135,206,250,0.1145201);\">tone</span> <span style=\"background-color:rgba(135,206,250,0.086467214);\">to</span> <span style=\"background-color:rgba(135,206,250,0.23475659);\">this</span> <span style=\"background-color:rgba(135,206,250,0.17237653);\">dry</span> <span style=\"background-color:rgba(135,206,250,0.11428858);\">,</span> <span style=\"background-color:rgba(135,206,250,0.148315);\">honeyed</span> <span style=\"background-color:rgba(135,206,250,0.14650056);\">,</span> <span style=\"background-color:rgba(135,206,250,0.19793002);\">sunny</span> <span style=\"background-color:rgba(135,206,250,0.24359985);\">tangerine</span> <span style=\"background-color:rgba(135,206,250,0.18302257);\">and</span> <span style=\"background-color:rgba(135,206,250,0.34458068);\">peach</span> <span style=\"background-color:rgba(135,206,250,0.5175871);\">flavors</span> <span style=\"background-color:rgba(135,206,250,0.51291174);\">.</span>"
            ]
          },
          "metadata": {}
        },
        {
          "output_type": "stream",
          "name": "stdout",
          "text": [
            "it:   \t85.25%\n",
            "the:   \t12.77%\n",
            "crisp:   \t0.49%\n",
            "brisk:   \t0.22%\n",
            "zesty:   \t0.19%\n",
            "--------\n",
            "\n"
          ]
        },
        {
          "output_type": "display_data",
          "data": {
            "text/plain": [
              "<IPython.core.display.HTML object>"
            ],
            "text/html": [
              "<span style=\"background-color:rgba(135,206,250,0.06335329);\">wine</span> <span style=\"background-color:rgba(135,206,250,0.14873227);\">review</span> <span style=\"background-color:rgba(135,206,250,0.0433882);\">:</span> <span style=\"background-color:rgba(135,206,250,0.27009845);\">germany</span> <span style=\"background-color:rgba(135,206,250,0.24610665);\">:</span> <span style=\"background-color:rgba(135,206,250,0.08794312);\">mosel</span> <span style=\"background-color:rgba(135,206,250,0.031469468);\">:</span> <span style=\"background-color:rgba(135,206,250,0.068569966);\">riesling</span> <span style=\"background-color:rgba(135,206,250,0.037083708);\">:</span> <span style=\"background-color:rgba(135,206,250,0.025152477);\">a</span> <span style=\"background-color:rgba(135,206,250,0.045801915);\">touch</span> <span style=\"background-color:rgba(135,206,250,0.025678238);\">of</span> <span style=\"background-color:rgba(135,206,250,0.04218459);\">smoke</span> <span style=\"background-color:rgba(135,206,250,0.024164714);\">and</span> <span style=\"background-color:rgba(135,206,250,0.037925947);\">spice</span> <span style=\"background-color:rgba(135,206,250,0.057395026);\">lend</span> <span style=\"background-color:rgba(135,206,250,0.021715876);\">a</span> <span style=\"background-color:rgba(135,206,250,0.0332583);\">fresh</span> <span style=\"background-color:rgba(135,206,250,0.026500575);\">,</span> <span style=\"background-color:rgba(135,206,250,0.04494316);\">mineral</span> <span style=\"background-color:rgba(135,206,250,0.06750896);\">tone</span> <span style=\"background-color:rgba(135,206,250,0.03512709);\">to</span> <span style=\"background-color:rgba(135,206,250,0.040205147);\">this</span> <span style=\"background-color:rgba(135,206,250,0.062617324);\">dry</span> <span style=\"background-color:rgba(135,206,250,0.050771616);\">,</span> <span style=\"background-color:rgba(135,206,250,0.07398661);\">honeyed</span> <span style=\"background-color:rgba(135,206,250,0.08421138);\">,</span> <span style=\"background-color:rgba(135,206,250,0.1394672);\">sunny</span> <span style=\"background-color:rgba(135,206,250,0.11663827);\">tangerine</span> <span style=\"background-color:rgba(135,206,250,0.12668326);\">and</span> <span style=\"background-color:rgba(135,206,250,0.16489597);\">peach</span> <span style=\"background-color:rgba(135,206,250,0.3042344);\">flavors</span> <span style=\"background-color:rgba(135,206,250,1.0);\">.</span> <span style=\"background-color:rgba(135,206,250,0.23124166);\">it</span>"
            ]
          },
          "metadata": {}
        },
        {
          "output_type": "stream",
          "name": "stdout",
          "text": [
            "':   \t99.89%\n",
            "finishes:   \t0.09%\n",
            "is:   \t0.01%\n",
            "penetrates:   \t0.0%\n",
            "has:   \t0.0%\n",
            "--------\n",
            "\n"
          ]
        },
        {
          "output_type": "display_data",
          "data": {
            "text/plain": [
              "<IPython.core.display.HTML object>"
            ],
            "text/html": [
              "<span style=\"background-color:rgba(135,206,250,0.106608965);\">wine</span> <span style=\"background-color:rgba(135,206,250,0.21066965);\">review</span> <span style=\"background-color:rgba(135,206,250,0.046501543);\">:</span> <span style=\"background-color:rgba(135,206,250,0.17710103);\">germany</span> <span style=\"background-color:rgba(135,206,250,0.0983833);\">:</span> <span style=\"background-color:rgba(135,206,250,0.11956082);\">mosel</span> <span style=\"background-color:rgba(135,206,250,0.03652939);\">:</span> <span style=\"background-color:rgba(135,206,250,0.13973302);\">riesling</span> <span style=\"background-color:rgba(135,206,250,0.045213062);\">:</span> <span style=\"background-color:rgba(135,206,250,0.03886545);\">a</span> <span style=\"background-color:rgba(135,206,250,0.037376616);\">touch</span> <span style=\"background-color:rgba(135,206,250,0.031098492);\">of</span> <span style=\"background-color:rgba(135,206,250,0.036633782);\">smoke</span> <span style=\"background-color:rgba(135,206,250,0.039611567);\">and</span> <span style=\"background-color:rgba(135,206,250,0.023105284);\">spice</span> <span style=\"background-color:rgba(135,206,250,0.0506677);\">lend</span> <span style=\"background-color:rgba(135,206,250,0.02725238);\">a</span> <span style=\"background-color:rgba(135,206,250,0.028910426);\">fresh</span> <span style=\"background-color:rgba(135,206,250,0.042983416);\">,</span> <span style=\"background-color:rgba(135,206,250,0.041303862);\">mineral</span> <span style=\"background-color:rgba(135,206,250,0.059978172);\">tone</span> <span style=\"background-color:rgba(135,206,250,0.03509356);\">to</span> <span style=\"background-color:rgba(135,206,250,0.046420835);\">this</span> <span style=\"background-color:rgba(135,206,250,0.055481967);\">dry</span> <span style=\"background-color:rgba(135,206,250,0.063768804);\">,</span> <span style=\"background-color:rgba(135,206,250,0.097175404);\">honeyed</span> <span style=\"background-color:rgba(135,206,250,0.084233694);\">,</span> <span style=\"background-color:rgba(135,206,250,0.09945369);\">sunny</span> <span style=\"background-color:rgba(135,206,250,0.12546064);\">tangerine</span> <span style=\"background-color:rgba(135,206,250,0.16184144);\">and</span> <span style=\"background-color:rgba(135,206,250,0.18216214);\">peach</span> <span style=\"background-color:rgba(135,206,250,0.29791838);\">flavors</span> <span style=\"background-color:rgba(135,206,250,0.771594);\">.</span> <span style=\"background-color:rgba(135,206,250,1.0);\">it</span> <span style=\"background-color:rgba(135,206,250,0.10078356);\">'</span>"
            ]
          },
          "metadata": {}
        },
        {
          "output_type": "stream",
          "name": "stdout",
          "text": [
            "s:   \t100.0%\n",
            "ll:   \t0.0%\n",
            "d:   \t0.0%\n",
            "09:   \t0.0%\n",
            "[UNK]:   \t0.0%\n",
            "--------\n",
            "\n"
          ]
        },
        {
          "output_type": "display_data",
          "data": {
            "text/plain": [
              "<IPython.core.display.HTML object>"
            ],
            "text/html": [
              "<span style=\"background-color:rgba(135,206,250,0.08314943);\">wine</span> <span style=\"background-color:rgba(135,206,250,0.196548);\">review</span> <span style=\"background-color:rgba(135,206,250,0.05774123);\">:</span> <span style=\"background-color:rgba(135,206,250,0.30944014);\">germany</span> <span style=\"background-color:rgba(135,206,250,0.26023635);\">:</span> <span style=\"background-color:rgba(135,206,250,0.14877848);\">mosel</span> <span style=\"background-color:rgba(135,206,250,0.03246744);\">:</span> <span style=\"background-color:rgba(135,206,250,0.16811743);\">riesling</span> <span style=\"background-color:rgba(135,206,250,0.05550093);\">:</span> <span style=\"background-color:rgba(135,206,250,0.04575375);\">a</span> <span style=\"background-color:rgba(135,206,250,0.047251757);\">touch</span> <span style=\"background-color:rgba(135,206,250,0.02849805);\">of</span> <span style=\"background-color:rgba(135,206,250,0.044153035);\">smoke</span> <span style=\"background-color:rgba(135,206,250,0.035071477);\">and</span> <span style=\"background-color:rgba(135,206,250,0.03954284);\">spice</span> <span style=\"background-color:rgba(135,206,250,0.054741938);\">lend</span> <span style=\"background-color:rgba(135,206,250,0.0319752);\">a</span> <span style=\"background-color:rgba(135,206,250,0.065794386);\">fresh</span> <span style=\"background-color:rgba(135,206,250,0.033333894);\">,</span> <span style=\"background-color:rgba(135,206,250,0.06330082);\">mineral</span> <span style=\"background-color:rgba(135,206,250,0.08295388);\">tone</span> <span style=\"background-color:rgba(135,206,250,0.032737177);\">to</span> <span style=\"background-color:rgba(135,206,250,0.058984783);\">this</span> <span style=\"background-color:rgba(135,206,250,0.10341872);\">dry</span> <span style=\"background-color:rgba(135,206,250,0.058857083);\">,</span> <span style=\"background-color:rgba(135,206,250,0.106417246);\">honeyed</span> <span style=\"background-color:rgba(135,206,250,0.0889059);\">,</span> <span style=\"background-color:rgba(135,206,250,0.177405);\">sunny</span> <span style=\"background-color:rgba(135,206,250,0.117317334);\">tangerine</span> <span style=\"background-color:rgba(135,206,250,0.16828808);\">and</span> <span style=\"background-color:rgba(135,206,250,0.12798643);\">peach</span> <span style=\"background-color:rgba(135,206,250,0.304849);\">flavors</span> <span style=\"background-color:rgba(135,206,250,1.0);\">.</span> <span style=\"background-color:rgba(135,206,250,0.7158041);\">it</span> <span style=\"background-color:rgba(135,206,250,0.09018901);\">'</span> <span style=\"background-color:rgba(135,206,250,0.19500221);\">s</span>"
            ]
          },
          "metadata": {}
        },
        {
          "output_type": "stream",
          "name": "stdout",
          "text": [
            "a:   \t43.04%\n",
            "full:   \t17.51%\n",
            "delicately:   \t3.87%\n",
            "light:   \t2.68%\n",
            "crisp:   \t2.48%\n",
            "--------\n",
            "\n"
          ]
        },
        {
          "output_type": "display_data",
          "data": {
            "text/plain": [
              "<IPython.core.display.HTML object>"
            ],
            "text/html": [
              "<span style=\"background-color:rgba(135,206,250,0.09063963);\">wine</span> <span style=\"background-color:rgba(135,206,250,0.1793743);\">review</span> <span style=\"background-color:rgba(135,206,250,0.07729093);\">:</span> <span style=\"background-color:rgba(135,206,250,0.49346054);\">germany</span> <span style=\"background-color:rgba(135,206,250,0.38820848);\">:</span> <span style=\"background-color:rgba(135,206,250,0.2180985);\">mosel</span> <span style=\"background-color:rgba(135,206,250,0.04125777);\">:</span> <span style=\"background-color:rgba(135,206,250,0.26386806);\">riesling</span> <span style=\"background-color:rgba(135,206,250,0.07183091);\">:</span> <span style=\"background-color:rgba(135,206,250,0.023903709);\">a</span> <span style=\"background-color:rgba(135,206,250,0.05553596);\">touch</span> <span style=\"background-color:rgba(135,206,250,0.031463046);\">of</span> <span style=\"background-color:rgba(135,206,250,0.065829314);\">smoke</span> <span style=\"background-color:rgba(135,206,250,0.03476935);\">and</span> <span style=\"background-color:rgba(135,206,250,0.06209312);\">spice</span> <span style=\"background-color:rgba(135,206,250,0.056481317);\">lend</span> <span style=\"background-color:rgba(135,206,250,0.016997429);\">a</span> <span style=\"background-color:rgba(135,206,250,0.08735945);\">fresh</span> <span style=\"background-color:rgba(135,206,250,0.037466444);\">,</span> <span style=\"background-color:rgba(135,206,250,0.09123986);\">mineral</span> <span style=\"background-color:rgba(135,206,250,0.080524996);\">tone</span> <span style=\"background-color:rgba(135,206,250,0.032106098);\">to</span> <span style=\"background-color:rgba(135,206,250,0.053545367);\">this</span> <span style=\"background-color:rgba(135,206,250,0.10711285);\">dry</span> <span style=\"background-color:rgba(135,206,250,0.058824655);\">,</span> <span style=\"background-color:rgba(135,206,250,0.14753096);\">honeyed</span> <span style=\"background-color:rgba(135,206,250,0.08433093);\">,</span> <span style=\"background-color:rgba(135,206,250,0.2149889);\">sunny</span> <span style=\"background-color:rgba(135,206,250,0.18619503);\">tangerine</span> <span style=\"background-color:rgba(135,206,250,0.14571755);\">and</span> <span style=\"background-color:rgba(135,206,250,0.22574614);\">peach</span> <span style=\"background-color:rgba(135,206,250,0.42937496);\">flavors</span> <span style=\"background-color:rgba(135,206,250,1.0);\">.</span> <span style=\"background-color:rgba(135,206,250,0.48494047);\">it</span> <span style=\"background-color:rgba(135,206,250,0.13472034);\">'</span> <span style=\"background-color:rgba(135,206,250,0.6832128);\">s</span> <span style=\"background-color:rgba(135,206,250,0.30480203);\">a</span>"
            ]
          },
          "metadata": {}
        },
        {
          "output_type": "stream",
          "name": "stdout",
          "text": [
            "straightforward:   \t36.64%\n",
            "bit:   \t14.56%\n",
            "refreshingly:   \t14.44%\n",
            "refreshing:   \t3.6%\n",
            "spry:   \t2.54%\n",
            "--------\n",
            "\n"
          ]
        },
        {
          "output_type": "display_data",
          "data": {
            "text/plain": [
              "<IPython.core.display.HTML object>"
            ],
            "text/html": [
              "<span style=\"background-color:rgba(135,206,250,0.07839823);\">wine</span> <span style=\"background-color:rgba(135,206,250,0.19892181);\">review</span> <span style=\"background-color:rgba(135,206,250,0.052834634);\">:</span> <span style=\"background-color:rgba(135,206,250,0.40897274);\">germany</span> <span style=\"background-color:rgba(135,206,250,0.27238297);\">:</span> <span style=\"background-color:rgba(135,206,250,0.1742331);\">mosel</span> <span style=\"background-color:rgba(135,206,250,0.055183355);\">:</span> <span style=\"background-color:rgba(135,206,250,0.341891);\">riesling</span> <span style=\"background-color:rgba(135,206,250,0.08188362);\">:</span> <span style=\"background-color:rgba(135,206,250,0.029246183);\">a</span> <span style=\"background-color:rgba(135,206,250,0.03602755);\">touch</span> <span style=\"background-color:rgba(135,206,250,0.031546075);\">of</span> <span style=\"background-color:rgba(135,206,250,0.038491756);\">smoke</span> <span style=\"background-color:rgba(135,206,250,0.029276237);\">and</span> <span style=\"background-color:rgba(135,206,250,0.03885449);\">spice</span> <span style=\"background-color:rgba(135,206,250,0.07023785);\">lend</span> <span style=\"background-color:rgba(135,206,250,0.017444447);\">a</span> <span style=\"background-color:rgba(135,206,250,0.02716257);\">fresh</span> <span style=\"background-color:rgba(135,206,250,0.036766056);\">,</span> <span style=\"background-color:rgba(135,206,250,0.059580028);\">mineral</span> <span style=\"background-color:rgba(135,206,250,0.059466284);\">tone</span> <span style=\"background-color:rgba(135,206,250,0.032475505);\">to</span> <span style=\"background-color:rgba(135,206,250,0.048601743);\">this</span> <span style=\"background-color:rgba(135,206,250,0.058562502);\">dry</span> <span style=\"background-color:rgba(135,206,250,0.052498613);\">,</span> <span style=\"background-color:rgba(135,206,250,0.077864915);\">honeyed</span> <span style=\"background-color:rgba(135,206,250,0.07014984);\">,</span> <span style=\"background-color:rgba(135,206,250,0.06666528);\">sunny</span> <span style=\"background-color:rgba(135,206,250,0.1668456);\">tangerine</span> <span style=\"background-color:rgba(135,206,250,0.08898342);\">and</span> <span style=\"background-color:rgba(135,206,250,0.156553);\">peach</span> <span style=\"background-color:rgba(135,206,250,0.43688047);\">flavors</span> <span style=\"background-color:rgba(135,206,250,0.7594027);\">.</span> <span style=\"background-color:rgba(135,206,250,0.531715);\">it</span> <span style=\"background-color:rgba(135,206,250,0.09434991);\">'</span> <span style=\"background-color:rgba(135,206,250,0.74257946);\">s</span> <span style=\"background-color:rgba(135,206,250,1.0);\">a</span> <span style=\"background-color:rgba(135,206,250,0.3335032);\">straightforward</span>"
            ]
          },
          "metadata": {}
        },
        {
          "output_type": "stream",
          "name": "stdout",
          "text": [
            "quaffer:   \t62.41%\n",
            "yet:   \t16.75%\n",
            ",:   \t16.29%\n",
            "but:   \t2.73%\n",
            "wine:   \t1.52%\n",
            "--------\n",
            "\n"
          ]
        },
        {
          "output_type": "display_data",
          "data": {
            "text/plain": [
              "<IPython.core.display.HTML object>"
            ],
            "text/html": [
              "<span style=\"background-color:rgba(135,206,250,0.12248507);\">wine</span> <span style=\"background-color:rgba(135,206,250,0.28421095);\">review</span> <span style=\"background-color:rgba(135,206,250,0.13950592);\">:</span> <span style=\"background-color:rgba(135,206,250,0.42071173);\">germany</span> <span style=\"background-color:rgba(135,206,250,0.4678312);\">:</span> <span style=\"background-color:rgba(135,206,250,0.13577943);\">mosel</span> <span style=\"background-color:rgba(135,206,250,0.11302966);\">:</span> <span style=\"background-color:rgba(135,206,250,0.13283595);\">riesling</span> <span style=\"background-color:rgba(135,206,250,0.1351549);\">:</span> <span style=\"background-color:rgba(135,206,250,0.10004617);\">a</span> <span style=\"background-color:rgba(135,206,250,0.06732126);\">touch</span> <span style=\"background-color:rgba(135,206,250,0.06502912);\">of</span> <span style=\"background-color:rgba(135,206,250,0.051754232);\">smoke</span> <span style=\"background-color:rgba(135,206,250,0.05588955);\">and</span> <span style=\"background-color:rgba(135,206,250,0.061584417);\">spice</span> <span style=\"background-color:rgba(135,206,250,0.13539532);\">lend</span> <span style=\"background-color:rgba(135,206,250,0.07328791);\">a</span> <span style=\"background-color:rgba(135,206,250,0.04708359);\">fresh</span> <span style=\"background-color:rgba(135,206,250,0.06903916);\">,</span> <span style=\"background-color:rgba(135,206,250,0.06336662);\">mineral</span> <span style=\"background-color:rgba(135,206,250,0.08186739);\">tone</span> <span style=\"background-color:rgba(135,206,250,0.068939656);\">to</span> <span style=\"background-color:rgba(135,206,250,0.12948692);\">this</span> <span style=\"background-color:rgba(135,206,250,0.07366864);\">dry</span> <span style=\"background-color:rgba(135,206,250,0.094267316);\">,</span> <span style=\"background-color:rgba(135,206,250,0.08371599);\">honeyed</span> <span style=\"background-color:rgba(135,206,250,0.12166164);\">,</span> <span style=\"background-color:rgba(135,206,250,0.102466434);\">sunny</span> <span style=\"background-color:rgba(135,206,250,0.1417134);\">tangerine</span> <span style=\"background-color:rgba(135,206,250,0.12001278);\">and</span> <span style=\"background-color:rgba(135,206,250,0.12968026);\">peach</span> <span style=\"background-color:rgba(135,206,250,0.33358473);\">flavors</span> <span style=\"background-color:rgba(135,206,250,0.5944897);\">.</span> <span style=\"background-color:rgba(135,206,250,0.29927003);\">it</span> <span style=\"background-color:rgba(135,206,250,0.140191);\">'</span> <span style=\"background-color:rgba(135,206,250,0.5432493);\">s</span> <span style=\"background-color:rgba(135,206,250,1.0);\">a</span> <span style=\"background-color:rgba(135,206,250,0.6407377);\">straightforward</span> <span style=\"background-color:rgba(135,206,250,0.63114077);\">quaffer</span>"
            ]
          },
          "metadata": {}
        },
        {
          "output_type": "stream",
          "name": "stdout",
          "text": [
            ",:   \t60.7%\n",
            "with:   \t11.21%\n",
            ".:   \t10.5%\n",
            "that:   \t8.91%\n",
            "to:   \t2.72%\n",
            "--------\n",
            "\n"
          ]
        },
        {
          "output_type": "display_data",
          "data": {
            "text/plain": [
              "<IPython.core.display.HTML object>"
            ],
            "text/html": [
              "<span style=\"background-color:rgba(135,206,250,0.041752398);\">wine</span> <span style=\"background-color:rgba(135,206,250,0.11677202);\">review</span> <span style=\"background-color:rgba(135,206,250,0.035189193);\">:</span> <span style=\"background-color:rgba(135,206,250,0.24234001);\">germany</span> <span style=\"background-color:rgba(135,206,250,0.14653079);\">:</span> <span style=\"background-color:rgba(135,206,250,0.09174288);\">mosel</span> <span style=\"background-color:rgba(135,206,250,0.028210742);\">:</span> <span style=\"background-color:rgba(135,206,250,0.14931642);\">riesling</span> <span style=\"background-color:rgba(135,206,250,0.04447767);\">:</span> <span style=\"background-color:rgba(135,206,250,0.01928093);\">a</span> <span style=\"background-color:rgba(135,206,250,0.029852958);\">touch</span> <span style=\"background-color:rgba(135,206,250,0.022707261);\">of</span> <span style=\"background-color:rgba(135,206,250,0.03392989);\">smoke</span> <span style=\"background-color:rgba(135,206,250,0.028669829);\">and</span> <span style=\"background-color:rgba(135,206,250,0.032139637);\">spice</span> <span style=\"background-color:rgba(135,206,250,0.07449306);\">lend</span> <span style=\"background-color:rgba(135,206,250,0.014684531);\">a</span> <span style=\"background-color:rgba(135,206,250,0.035340108);\">fresh</span> <span style=\"background-color:rgba(135,206,250,0.020974746);\">,</span> <span style=\"background-color:rgba(135,206,250,0.039698485);\">mineral</span> <span style=\"background-color:rgba(135,206,250,0.037022736);\">tone</span> <span style=\"background-color:rgba(135,206,250,0.01893778);\">to</span> <span style=\"background-color:rgba(135,206,250,0.06603655);\">this</span> <span style=\"background-color:rgba(135,206,250,0.05183715);\">dry</span> <span style=\"background-color:rgba(135,206,250,0.027373305);\">,</span> <span style=\"background-color:rgba(135,206,250,0.06915769);\">honeyed</span> <span style=\"background-color:rgba(135,206,250,0.033904165);\">,</span> <span style=\"background-color:rgba(135,206,250,0.069101065);\">sunny</span> <span style=\"background-color:rgba(135,206,250,0.112170234);\">tangerine</span> <span style=\"background-color:rgba(135,206,250,0.0835199);\">and</span> <span style=\"background-color:rgba(135,206,250,0.112649865);\">peach</span> <span style=\"background-color:rgba(135,206,250,0.14798479);\">flavors</span> <span style=\"background-color:rgba(135,206,250,0.3694377);\">.</span> <span style=\"background-color:rgba(135,206,250,0.19958198);\">it</span> <span style=\"background-color:rgba(135,206,250,0.027887717);\">'</span> <span style=\"background-color:rgba(135,206,250,0.31134585);\">s</span> <span style=\"background-color:rgba(135,206,250,0.30358);\">a</span> <span style=\"background-color:rgba(135,206,250,0.5503458);\">straightforward</span> <span style=\"background-color:rgba(135,206,250,1.0);\">quaffer</span> <span style=\"background-color:rgba(135,206,250,0.39584365);\">,</span>"
            ]
          },
          "metadata": {}
        },
        {
          "output_type": "stream",
          "name": "stdout",
          "text": [
            "but:   \t90.21%\n",
            "yet:   \t6.98%\n",
            "with:   \t1.67%\n",
            "finishing:   \t0.56%\n",
            "and:   \t0.25%\n",
            "--------\n",
            "\n"
          ]
        },
        {
          "output_type": "display_data",
          "data": {
            "text/plain": [
              "<IPython.core.display.HTML object>"
            ],
            "text/html": [
              "<span style=\"background-color:rgba(135,206,250,0.079961054);\">wine</span> <span style=\"background-color:rgba(135,206,250,0.208149);\">review</span> <span style=\"background-color:rgba(135,206,250,0.10750505);\">:</span> <span style=\"background-color:rgba(135,206,250,0.41174516);\">germany</span> <span style=\"background-color:rgba(135,206,250,0.5280771);\">:</span> <span style=\"background-color:rgba(135,206,250,0.1479112);\">mosel</span> <span style=\"background-color:rgba(135,206,250,0.054824345);\">:</span> <span style=\"background-color:rgba(135,206,250,0.16144171);\">riesling</span> <span style=\"background-color:rgba(135,206,250,0.07143485);\">:</span> <span style=\"background-color:rgba(135,206,250,0.033068407);\">a</span> <span style=\"background-color:rgba(135,206,250,0.046539173);\">touch</span> <span style=\"background-color:rgba(135,206,250,0.019938752);\">of</span> <span style=\"background-color:rgba(135,206,250,0.054944143);\">smoke</span> <span style=\"background-color:rgba(135,206,250,0.045733638);\">and</span> <span style=\"background-color:rgba(135,206,250,0.06229233);\">spice</span> <span style=\"background-color:rgba(135,206,250,0.051789258);\">lend</span> <span style=\"background-color:rgba(135,206,250,0.024669586);\">a</span> <span style=\"background-color:rgba(135,206,250,0.055907816);\">fresh</span> <span style=\"background-color:rgba(135,206,250,0.037595607);\">,</span> <span style=\"background-color:rgba(135,206,250,0.08649062);\">mineral</span> <span style=\"background-color:rgba(135,206,250,0.07126738);\">tone</span> <span style=\"background-color:rgba(135,206,250,0.021884432);\">to</span> <span style=\"background-color:rgba(135,206,250,0.038424235);\">this</span> <span style=\"background-color:rgba(135,206,250,0.070111364);\">dry</span> <span style=\"background-color:rgba(135,206,250,0.04892201);\">,</span> <span style=\"background-color:rgba(135,206,250,0.092313215);\">honeyed</span> <span style=\"background-color:rgba(135,206,250,0.060993798);\">,</span> <span style=\"background-color:rgba(135,206,250,0.10136374);\">sunny</span> <span style=\"background-color:rgba(135,206,250,0.12356687);\">tangerine</span> <span style=\"background-color:rgba(135,206,250,0.08444354);\">and</span> <span style=\"background-color:rgba(135,206,250,0.12241276);\">peach</span> <span style=\"background-color:rgba(135,206,250,0.17709479);\">flavors</span> <span style=\"background-color:rgba(135,206,250,0.27282992);\">.</span> <span style=\"background-color:rgba(135,206,250,0.10109628);\">it</span> <span style=\"background-color:rgba(135,206,250,0.039115887);\">'</span> <span style=\"background-color:rgba(135,206,250,0.12241491);\">s</span> <span style=\"background-color:rgba(135,206,250,0.20309809);\">a</span> <span style=\"background-color:rgba(135,206,250,0.60590667);\">straightforward</span> <span style=\"background-color:rgba(135,206,250,0.6041048);\">quaffer</span> <span style=\"background-color:rgba(135,206,250,1.0);\">,</span> <span style=\"background-color:rgba(135,206,250,0.4114014);\">showing</span>"
            ]
          },
          "metadata": {}
        },
        {
          "output_type": "stream",
          "name": "stdout",
          "text": [
            "a:   \t98.88%\n",
            "some:   \t0.7%\n",
            "an:   \t0.14%\n",
            "good:   \t0.05%\n",
            "surprising:   \t0.03%\n",
            "--------\n",
            "\n"
          ]
        },
        {
          "output_type": "display_data",
          "data": {
            "text/plain": [
              "<IPython.core.display.HTML object>"
            ],
            "text/html": [
              "<span style=\"background-color:rgba(135,206,250,0.04869648);\">wine</span> <span style=\"background-color:rgba(135,206,250,0.09916486);\">review</span> <span style=\"background-color:rgba(135,206,250,0.039774723);\">:</span> <span style=\"background-color:rgba(135,206,250,0.3361054);\">germany</span> <span style=\"background-color:rgba(135,206,250,0.1790376);\">:</span> <span style=\"background-color:rgba(135,206,250,0.14182866);\">mosel</span> <span style=\"background-color:rgba(135,206,250,0.025262801);\">:</span> <span style=\"background-color:rgba(135,206,250,0.171384);\">riesling</span> <span style=\"background-color:rgba(135,206,250,0.04165979);\">:</span> <span style=\"background-color:rgba(135,206,250,0.01448697);\">a</span> <span style=\"background-color:rgba(135,206,250,0.034648523);\">touch</span> <span style=\"background-color:rgba(135,206,250,0.017927732);\">of</span> <span style=\"background-color:rgba(135,206,250,0.03822808);\">smoke</span> <span style=\"background-color:rgba(135,206,250,0.020522995);\">and</span> <span style=\"background-color:rgba(135,206,250,0.037543766);\">spice</span> <span style=\"background-color:rgba(135,206,250,0.031245228);\">lend</span> <span style=\"background-color:rgba(135,206,250,0.009558939);\">a</span> <span style=\"background-color:rgba(135,206,250,0.048889995);\">fresh</span> <span style=\"background-color:rgba(135,206,250,0.019862207);\">,</span> <span style=\"background-color:rgba(135,206,250,0.049935594);\">mineral</span> <span style=\"background-color:rgba(135,206,250,0.04531553);\">tone</span> <span style=\"background-color:rgba(135,206,250,0.01467153);\">to</span> <span style=\"background-color:rgba(135,206,250,0.02444981);\">this</span> <span style=\"background-color:rgba(135,206,250,0.055167306);\">dry</span> <span style=\"background-color:rgba(135,206,250,0.02355827);\">,</span> <span style=\"background-color:rgba(135,206,250,0.06621991);\">honeyed</span> <span style=\"background-color:rgba(135,206,250,0.028400714);\">,</span> <span style=\"background-color:rgba(135,206,250,0.08470485);\">sunny</span> <span style=\"background-color:rgba(135,206,250,0.078627676);\">tangerine</span> <span style=\"background-color:rgba(135,206,250,0.03639297);\">and</span> <span style=\"background-color:rgba(135,206,250,0.07109099);\">peach</span> <span style=\"background-color:rgba(135,206,250,0.13628893);\">flavors</span> <span style=\"background-color:rgba(135,206,250,0.1676738);\">.</span> <span style=\"background-color:rgba(135,206,250,0.08195291);\">it</span> <span style=\"background-color:rgba(135,206,250,0.021528868);\">'</span> <span style=\"background-color:rgba(135,206,250,0.100697644);\">s</span> <span style=\"background-color:rgba(135,206,250,0.045660913);\">a</span> <span style=\"background-color:rgba(135,206,250,0.3928952);\">straightforward</span> <span style=\"background-color:rgba(135,206,250,0.47996774);\">quaffer</span> <span style=\"background-color:rgba(135,206,250,0.45598364);\">,</span> <span style=\"background-color:rgba(135,206,250,1.0);\">showing</span> <span style=\"background-color:rgba(135,206,250,0.19724275);\">a</span>"
            ]
          },
          "metadata": {}
        },
        {
          "output_type": "stream",
          "name": "stdout",
          "text": [
            "hint:   \t55.33%\n",
            "bit:   \t15.99%\n",
            "kiss:   \t9.22%\n",
            "touch:   \t4.92%\n",
            "moderately:   \t2.6%\n",
            "--------\n",
            "\n"
          ]
        },
        {
          "output_type": "display_data",
          "data": {
            "text/plain": [
              "<IPython.core.display.HTML object>"
            ],
            "text/html": [
              "<span style=\"background-color:rgba(135,206,250,0.09414054);\">wine</span> <span style=\"background-color:rgba(135,206,250,0.18257593);\">review</span> <span style=\"background-color:rgba(135,206,250,0.09287188);\">:</span> <span style=\"background-color:rgba(135,206,250,0.23950973);\">germany</span> <span style=\"background-color:rgba(135,206,250,0.18420859);\">:</span> <span style=\"background-color:rgba(135,206,250,0.1832723);\">mosel</span> <span style=\"background-color:rgba(135,206,250,0.040710177);\">:</span> <span style=\"background-color:rgba(135,206,250,0.14397897);\">riesling</span> <span style=\"background-color:rgba(135,206,250,0.072291);\">:</span> <span style=\"background-color:rgba(135,206,250,0.02862174);\">a</span> <span style=\"background-color:rgba(135,206,250,0.03665132);\">touch</span> <span style=\"background-color:rgba(135,206,250,0.029031677);\">of</span> <span style=\"background-color:rgba(135,206,250,0.043851174);\">smoke</span> <span style=\"background-color:rgba(135,206,250,0.04563903);\">and</span> <span style=\"background-color:rgba(135,206,250,0.034421112);\">spice</span> <span style=\"background-color:rgba(135,206,250,0.045945108);\">lend</span> <span style=\"background-color:rgba(135,206,250,0.01845408);\">a</span> <span style=\"background-color:rgba(135,206,250,0.052419774);\">fresh</span> <span style=\"background-color:rgba(135,206,250,0.040585976);\">,</span> <span style=\"background-color:rgba(135,206,250,0.071253076);\">mineral</span> <span style=\"background-color:rgba(135,206,250,0.05174456);\">tone</span> <span style=\"background-color:rgba(135,206,250,0.023999203);\">to</span> <span style=\"background-color:rgba(135,206,250,0.03485326);\">this</span> <span style=\"background-color:rgba(135,206,250,0.0755538);\">dry</span> <span style=\"background-color:rgba(135,206,250,0.054247003);\">,</span> <span style=\"background-color:rgba(135,206,250,0.09486094);\">honeyed</span> <span style=\"background-color:rgba(135,206,250,0.061722763);\">,</span> <span style=\"background-color:rgba(135,206,250,0.11689284);\">sunny</span> <span style=\"background-color:rgba(135,206,250,0.0751506);\">tangerine</span> <span style=\"background-color:rgba(135,206,250,0.07860805);\">and</span> <span style=\"background-color:rgba(135,206,250,0.06680479);\">peach</span> <span style=\"background-color:rgba(135,206,250,0.111277595);\">flavors</span> <span style=\"background-color:rgba(135,206,250,0.21717171);\">.</span> <span style=\"background-color:rgba(135,206,250,0.11943532);\">it</span> <span style=\"background-color:rgba(135,206,250,0.050396185);\">'</span> <span style=\"background-color:rgba(135,206,250,0.1090414);\">s</span> <span style=\"background-color:rgba(135,206,250,0.083550386);\">a</span> <span style=\"background-color:rgba(135,206,250,0.42132297);\">straightforward</span> <span style=\"background-color:rgba(135,206,250,0.6489574);\">quaffer</span> <span style=\"background-color:rgba(135,206,250,0.712252);\">,</span> <span style=\"background-color:rgba(135,206,250,1.0);\">showing</span> <span style=\"background-color:rgba(135,206,250,0.2872579);\">a</span> <span style=\"background-color:rgba(135,206,250,0.11755462);\">bit</span>"
            ]
          },
          "metadata": {}
        },
        {
          "output_type": "stream",
          "name": "stdout",
          "text": [
            "of:   \t97.73%\n",
            "more:   \t1.66%\n",
            "on:   \t0.59%\n",
            "off:   \t0.01%\n",
            "like:   \t0.0%\n",
            "--------\n",
            "\n"
          ]
        },
        {
          "output_type": "display_data",
          "data": {
            "text/plain": [
              "<IPython.core.display.HTML object>"
            ],
            "text/html": [
              "<span style=\"background-color:rgba(135,206,250,0.0669823);\">wine</span> <span style=\"background-color:rgba(135,206,250,0.12936726);\">review</span> <span style=\"background-color:rgba(135,206,250,0.061446495);\">:</span> <span style=\"background-color:rgba(135,206,250,0.49928302);\">germany</span> <span style=\"background-color:rgba(135,206,250,0.20993176);\">:</span> <span style=\"background-color:rgba(135,206,250,0.2777348);\">mosel</span> <span style=\"background-color:rgba(135,206,250,0.053680487);\">:</span> <span style=\"background-color:rgba(135,206,250,0.34962168);\">riesling</span> <span style=\"background-color:rgba(135,206,250,0.06759721);\">:</span> <span style=\"background-color:rgba(135,206,250,0.04130512);\">a</span> <span style=\"background-color:rgba(135,206,250,0.039938375);\">touch</span> <span style=\"background-color:rgba(135,206,250,0.016421007);\">of</span> <span style=\"background-color:rgba(135,206,250,0.08429698);\">smoke</span> <span style=\"background-color:rgba(135,206,250,0.04438015);\">and</span> <span style=\"background-color:rgba(135,206,250,0.074021794);\">spice</span> <span style=\"background-color:rgba(135,206,250,0.057874);\">lend</span> <span style=\"background-color:rgba(135,206,250,0.02452389);\">a</span> <span style=\"background-color:rgba(135,206,250,0.057121933);\">fresh</span> <span style=\"background-color:rgba(135,206,250,0.03905742);\">,</span> <span style=\"background-color:rgba(135,206,250,0.10142546);\">mineral</span> <span style=\"background-color:rgba(135,206,250,0.06063711);\">tone</span> <span style=\"background-color:rgba(135,206,250,0.017104484);\">to</span> <span style=\"background-color:rgba(135,206,250,0.0471319);\">this</span> <span style=\"background-color:rgba(135,206,250,0.08932991);\">dry</span> <span style=\"background-color:rgba(135,206,250,0.044613622);\">,</span> <span style=\"background-color:rgba(135,206,250,0.12871142);\">honeyed</span> <span style=\"background-color:rgba(135,206,250,0.0528324);\">,</span> <span style=\"background-color:rgba(135,206,250,0.09345531);\">sunny</span> <span style=\"background-color:rgba(135,206,250,0.13434543);\">tangerine</span> <span style=\"background-color:rgba(135,206,250,0.067706674);\">and</span> <span style=\"background-color:rgba(135,206,250,0.12746723);\">peach</span> <span style=\"background-color:rgba(135,206,250,0.1638372);\">flavors</span> <span style=\"background-color:rgba(135,206,250,0.18764943);\">.</span> <span style=\"background-color:rgba(135,206,250,0.10809794);\">it</span> <span style=\"background-color:rgba(135,206,250,0.028202515);\">'</span> <span style=\"background-color:rgba(135,206,250,0.13271952);\">s</span> <span style=\"background-color:rgba(135,206,250,0.14061134);\">a</span> <span style=\"background-color:rgba(135,206,250,0.38502607);\">straightforward</span> <span style=\"background-color:rgba(135,206,250,0.5641323);\">quaffer</span> <span style=\"background-color:rgba(135,206,250,0.47588763);\">,</span> <span style=\"background-color:rgba(135,206,250,0.66780484);\">showing</span> <span style=\"background-color:rgba(135,206,250,0.63587695);\">a</span> <span style=\"background-color:rgba(135,206,250,1.0);\">bit</span> <span style=\"background-color:rgba(135,206,250,0.31643942);\">of</span>"
            ]
          },
          "metadata": {}
        },
        {
          "output_type": "stream",
          "name": "stdout",
          "text": [
            "a:   \t29.71%\n",
            "sweetness:   \t13.35%\n",
            "spritz:   \t10.4%\n",
            "maturity:   \t8.16%\n",
            "astringency:   \t6.65%\n",
            "--------\n",
            "\n"
          ]
        },
        {
          "output_type": "display_data",
          "data": {
            "text/plain": [
              "<IPython.core.display.HTML object>"
            ],
            "text/html": [
              "<span style=\"background-color:rgba(135,206,250,0.08912854);\">wine</span> <span style=\"background-color:rgba(135,206,250,0.25980103);\">review</span> <span style=\"background-color:rgba(135,206,250,0.0953888);\">:</span> <span style=\"background-color:rgba(135,206,250,0.2745533);\">germany</span> <span style=\"background-color:rgba(135,206,250,0.5797273);\">:</span> <span style=\"background-color:rgba(135,206,250,0.0744762);\">mosel</span> <span style=\"background-color:rgba(135,206,250,0.056213673);\">:</span> <span style=\"background-color:rgba(135,206,250,0.0722804);\">riesling</span> <span style=\"background-color:rgba(135,206,250,0.059538834);\">:</span> <span style=\"background-color:rgba(135,206,250,0.023200622);\">a</span> <span style=\"background-color:rgba(135,206,250,0.031776343);\">touch</span> <span style=\"background-color:rgba(135,206,250,0.042109028);\">of</span> <span style=\"background-color:rgba(135,206,250,0.027473666);\">smoke</span> <span style=\"background-color:rgba(135,206,250,0.034456447);\">and</span> <span style=\"background-color:rgba(135,206,250,0.030452413);\">spice</span> <span style=\"background-color:rgba(135,206,250,0.110335745);\">lend</span> <span style=\"background-color:rgba(135,206,250,0.02190833);\">a</span> <span style=\"background-color:rgba(135,206,250,0.015342434);\">fresh</span> <span style=\"background-color:rgba(135,206,250,0.04436099);\">,</span> <span style=\"background-color:rgba(135,206,250,0.032624558);\">mineral</span> <span style=\"background-color:rgba(135,206,250,0.04066988);\">tone</span> <span style=\"background-color:rgba(135,206,250,0.035656665);\">to</span> <span style=\"background-color:rgba(135,206,250,0.069275565);\">this</span> <span style=\"background-color:rgba(135,206,250,0.03781517);\">dry</span> <span style=\"background-color:rgba(135,206,250,0.06321294);\">,</span> <span style=\"background-color:rgba(135,206,250,0.04728322);\">honeyed</span> <span style=\"background-color:rgba(135,206,250,0.0754435);\">,</span> <span style=\"background-color:rgba(135,206,250,0.046099473);\">sunny</span> <span style=\"background-color:rgba(135,206,250,0.091707736);\">tangerine</span> <span style=\"background-color:rgba(135,206,250,0.07503387);\">and</span> <span style=\"background-color:rgba(135,206,250,0.09616273);\">peach</span> <span style=\"background-color:rgba(135,206,250,0.17430359);\">flavors</span> <span style=\"background-color:rgba(135,206,250,0.3687005);\">.</span> <span style=\"background-color:rgba(135,206,250,0.28332362);\">it</span> <span style=\"background-color:rgba(135,206,250,0.083849825);\">'</span> <span style=\"background-color:rgba(135,206,250,0.2125768);\">s</span> <span style=\"background-color:rgba(135,206,250,0.15728848);\">a</span> <span style=\"background-color:rgba(135,206,250,0.29170027);\">straightforward</span> <span style=\"background-color:rgba(135,206,250,0.3810803);\">quaffer</span> <span style=\"background-color:rgba(135,206,250,0.5742981);\">,</span> <span style=\"background-color:rgba(135,206,250,0.73190284);\">showing</span> <span style=\"background-color:rgba(135,206,250,0.665522);\">a</span> <span style=\"background-color:rgba(135,206,250,0.62283444);\">bit</span> <span style=\"background-color:rgba(135,206,250,1.0);\">of</span> <span style=\"background-color:rgba(135,206,250,0.75792927);\">spritz</span>"
            ]
          },
          "metadata": {}
        },
        {
          "output_type": "stream",
          "name": "stdout",
          "text": [
            "on:   \t76.74%\n",
            "and:   \t19.46%\n",
            ".:   \t2.04%\n",
            ",:   \t1.25%\n",
            "that:   \t0.22%\n",
            "--------\n",
            "\n"
          ]
        },
        {
          "output_type": "display_data",
          "data": {
            "text/plain": [
              "<IPython.core.display.HTML object>"
            ],
            "text/html": [
              "<span style=\"background-color:rgba(135,206,250,0.070701584);\">wine</span> <span style=\"background-color:rgba(135,206,250,0.16298021);\">review</span> <span style=\"background-color:rgba(135,206,250,0.07584321);\">:</span> <span style=\"background-color:rgba(135,206,250,0.2546023);\">germany</span> <span style=\"background-color:rgba(135,206,250,0.36047304);\">:</span> <span style=\"background-color:rgba(135,206,250,0.12346956);\">mosel</span> <span style=\"background-color:rgba(135,206,250,0.06105744);\">:</span> <span style=\"background-color:rgba(135,206,250,0.15348159);\">riesling</span> <span style=\"background-color:rgba(135,206,250,0.06757739);\">:</span> <span style=\"background-color:rgba(135,206,250,0.025744405);\">a</span> <span style=\"background-color:rgba(135,206,250,0.04210738);\">touch</span> <span style=\"background-color:rgba(135,206,250,0.042522576);\">of</span> <span style=\"background-color:rgba(135,206,250,0.03316761);\">smoke</span> <span style=\"background-color:rgba(135,206,250,0.042035088);\">and</span> <span style=\"background-color:rgba(135,206,250,0.03543765);\">spice</span> <span style=\"background-color:rgba(135,206,250,0.072235644);\">lend</span> <span style=\"background-color:rgba(135,206,250,0.020281339);\">a</span> <span style=\"background-color:rgba(135,206,250,0.029211165);\">fresh</span> <span style=\"background-color:rgba(135,206,250,0.03514292);\">,</span> <span style=\"background-color:rgba(135,206,250,0.0368127);\">mineral</span> <span style=\"background-color:rgba(135,206,250,0.034494303);\">tone</span> <span style=\"background-color:rgba(135,206,250,0.025500577);\">to</span> <span style=\"background-color:rgba(135,206,250,0.07229357);\">this</span> <span style=\"background-color:rgba(135,206,250,0.048856553);\">dry</span> <span style=\"background-color:rgba(135,206,250,0.041476965);\">,</span> <span style=\"background-color:rgba(135,206,250,0.055249088);\">honeyed</span> <span style=\"background-color:rgba(135,206,250,0.047377232);\">,</span> <span style=\"background-color:rgba(135,206,250,0.04474474);\">sunny</span> <span style=\"background-color:rgba(135,206,250,0.051281124);\">tangerine</span> <span style=\"background-color:rgba(135,206,250,0.060123198);\">and</span> <span style=\"background-color:rgba(135,206,250,0.06345427);\">peach</span> <span style=\"background-color:rgba(135,206,250,0.09843123);\">flavors</span> <span style=\"background-color:rgba(135,206,250,0.1612861);\">.</span> <span style=\"background-color:rgba(135,206,250,0.12153199);\">it</span> <span style=\"background-color:rgba(135,206,250,0.038455207);\">'</span> <span style=\"background-color:rgba(135,206,250,0.09990076);\">s</span> <span style=\"background-color:rgba(135,206,250,0.08777129);\">a</span> <span style=\"background-color:rgba(135,206,250,0.27873462);\">straightforward</span> <span style=\"background-color:rgba(135,206,250,0.4325389);\">quaffer</span> <span style=\"background-color:rgba(135,206,250,0.3002982);\">,</span> <span style=\"background-color:rgba(135,206,250,0.27206162);\">showing</span> <span style=\"background-color:rgba(135,206,250,0.281755);\">a</span> <span style=\"background-color:rgba(135,206,250,0.3086082);\">bit</span> <span style=\"background-color:rgba(135,206,250,0.2971545);\">of</span> <span style=\"background-color:rgba(135,206,250,1.0);\">spritz</span> <span style=\"background-color:rgba(135,206,250,0.2781224);\">on</span>"
            ]
          },
          "metadata": {}
        },
        {
          "output_type": "stream",
          "name": "stdout",
          "text": [
            "the:   \t100.0%\n",
            "this:   \t0.0%\n",
            "a:   \t0.0%\n",
            "its:   \t0.0%\n",
            "it:   \t0.0%\n",
            "--------\n",
            "\n"
          ]
        },
        {
          "output_type": "display_data",
          "data": {
            "text/plain": [
              "<IPython.core.display.HTML object>"
            ],
            "text/html": [
              "<span style=\"background-color:rgba(135,206,250,0.04907991);\">wine</span> <span style=\"background-color:rgba(135,206,250,0.09723045);\">review</span> <span style=\"background-color:rgba(135,206,250,0.029630776);\">:</span> <span style=\"background-color:rgba(135,206,250,0.3081828);\">germany</span> <span style=\"background-color:rgba(135,206,250,0.15577435);\">:</span> <span style=\"background-color:rgba(135,206,250,0.16408572);\">mosel</span> <span style=\"background-color:rgba(135,206,250,0.032199707);\">:</span> <span style=\"background-color:rgba(135,206,250,0.21896496);\">riesling</span> <span style=\"background-color:rgba(135,206,250,0.039411053);\">:</span> <span style=\"background-color:rgba(135,206,250,0.01886015);\">a</span> <span style=\"background-color:rgba(135,206,250,0.034167454);\">touch</span> <span style=\"background-color:rgba(135,206,250,0.016974667);\">of</span> <span style=\"background-color:rgba(135,206,250,0.039521284);\">smoke</span> <span style=\"background-color:rgba(135,206,250,0.01982634);\">and</span> <span style=\"background-color:rgba(135,206,250,0.037484877);\">spice</span> <span style=\"background-color:rgba(135,206,250,0.030586608);\">lend</span> <span style=\"background-color:rgba(135,206,250,0.011751696);\">a</span> <span style=\"background-color:rgba(135,206,250,0.036908172);\">fresh</span> <span style=\"background-color:rgba(135,206,250,0.02039314);\">,</span> <span style=\"background-color:rgba(135,206,250,0.042457968);\">mineral</span> <span style=\"background-color:rgba(135,206,250,0.053812884);\">tone</span> <span style=\"background-color:rgba(135,206,250,0.014740125);\">to</span> <span style=\"background-color:rgba(135,206,250,0.0232312);\">this</span> <span style=\"background-color:rgba(135,206,250,0.049684007);\">dry</span> <span style=\"background-color:rgba(135,206,250,0.02319401);\">,</span> <span style=\"background-color:rgba(135,206,250,0.06760932);\">honeyed</span> <span style=\"background-color:rgba(135,206,250,0.026840504);\">,</span> <span style=\"background-color:rgba(135,206,250,0.057069026);\">sunny</span> <span style=\"background-color:rgba(135,206,250,0.073328674);\">tangerine</span> <span style=\"background-color:rgba(135,206,250,0.029515164);\">and</span> <span style=\"background-color:rgba(135,206,250,0.0677328);\">peach</span> <span style=\"background-color:rgba(135,206,250,0.16877139);\">flavors</span> <span style=\"background-color:rgba(135,206,250,0.115131006);\">.</span> <span style=\"background-color:rgba(135,206,250,0.050110642);\">it</span> <span style=\"background-color:rgba(135,206,250,0.011225656);\">'</span> <span style=\"background-color:rgba(135,206,250,0.049102753);\">s</span> <span style=\"background-color:rgba(135,206,250,0.03450522);\">a</span> <span style=\"background-color:rgba(135,206,250,0.20640118);\">straightforward</span> <span style=\"background-color:rgba(135,206,250,0.23733675);\">quaffer</span> <span style=\"background-color:rgba(135,206,250,0.18846871);\">,</span> <span style=\"background-color:rgba(135,206,250,0.21873726);\">showing</span> <span style=\"background-color:rgba(135,206,250,0.12614761);\">a</span> <span style=\"background-color:rgba(135,206,250,0.23315002);\">bit</span> <span style=\"background-color:rgba(135,206,250,0.4542319);\">of</span> <span style=\"background-color:rgba(135,206,250,0.67754596);\">spritz</span> <span style=\"background-color:rgba(135,206,250,1.0);\">on</span> <span style=\"background-color:rgba(135,206,250,0.28292027);\">the</span>"
            ]
          },
          "metadata": {}
        },
        {
          "output_type": "stream",
          "name": "stdout",
          "text": [
            "palate:   \t81.33%\n",
            "finish:   \t16.47%\n",
            "midpalate:   \t1.71%\n",
            "nose:   \t0.39%\n",
            "tongue:   \t0.05%\n",
            "--------\n",
            "\n"
          ]
        },
        {
          "output_type": "display_data",
          "data": {
            "text/plain": [
              "<IPython.core.display.HTML object>"
            ],
            "text/html": [
              "<span style=\"background-color:rgba(135,206,250,0.05850189);\">wine</span> <span style=\"background-color:rgba(135,206,250,0.18005797);\">review</span> <span style=\"background-color:rgba(135,206,250,0.06014704);\">:</span> <span style=\"background-color:rgba(135,206,250,0.3206654);\">germany</span> <span style=\"background-color:rgba(135,206,250,0.2886568);\">:</span> <span style=\"background-color:rgba(135,206,250,0.10301691);\">mosel</span> <span style=\"background-color:rgba(135,206,250,0.039149344);\">:</span> <span style=\"background-color:rgba(135,206,250,0.08221972);\">riesling</span> <span style=\"background-color:rgba(135,206,250,0.050292786);\">:</span> <span style=\"background-color:rgba(135,206,250,0.03353038);\">a</span> <span style=\"background-color:rgba(135,206,250,0.046284508);\">touch</span> <span style=\"background-color:rgba(135,206,250,0.023441387);\">of</span> <span style=\"background-color:rgba(135,206,250,0.03877607);\">smoke</span> <span style=\"background-color:rgba(135,206,250,0.029797258);\">and</span> <span style=\"background-color:rgba(135,206,250,0.039995957);\">spice</span> <span style=\"background-color:rgba(135,206,250,0.06417405);\">lend</span> <span style=\"background-color:rgba(135,206,250,0.02218822);\">a</span> <span style=\"background-color:rgba(135,206,250,0.029660815);\">fresh</span> <span style=\"background-color:rgba(135,206,250,0.025048753);\">,</span> <span style=\"background-color:rgba(135,206,250,0.0364666);\">mineral</span> <span style=\"background-color:rgba(135,206,250,0.051451825);\">tone</span> <span style=\"background-color:rgba(135,206,250,0.020237457);\">to</span> <span style=\"background-color:rgba(135,206,250,0.032676224);\">this</span> <span style=\"background-color:rgba(135,206,250,0.040282413);\">dry</span> <span style=\"background-color:rgba(135,206,250,0.032822568);\">,</span> <span style=\"background-color:rgba(135,206,250,0.043395765);\">honeyed</span> <span style=\"background-color:rgba(135,206,250,0.03779822);\">,</span> <span style=\"background-color:rgba(135,206,250,0.060229488);\">sunny</span> <span style=\"background-color:rgba(135,206,250,0.08058005);\">tangerine</span> <span style=\"background-color:rgba(135,206,250,0.044488475);\">and</span> <span style=\"background-color:rgba(135,206,250,0.06013073);\">peach</span> <span style=\"background-color:rgba(135,206,250,0.11960931);\">flavors</span> <span style=\"background-color:rgba(135,206,250,0.2097467);\">.</span> <span style=\"background-color:rgba(135,206,250,0.09314243);\">it</span> <span style=\"background-color:rgba(135,206,250,0.037162073);\">'</span> <span style=\"background-color:rgba(135,206,250,0.09388129);\">s</span> <span style=\"background-color:rgba(135,206,250,0.09770554);\">a</span> <span style=\"background-color:rgba(135,206,250,0.28102368);\">straightforward</span> <span style=\"background-color:rgba(135,206,250,0.1804433);\">quaffer</span> <span style=\"background-color:rgba(135,206,250,0.16826092);\">,</span> <span style=\"background-color:rgba(135,206,250,0.36746585);\">showing</span> <span style=\"background-color:rgba(135,206,250,0.30248323);\">a</span> <span style=\"background-color:rgba(135,206,250,0.30504778);\">bit</span> <span style=\"background-color:rgba(135,206,250,0.31065932);\">of</span> <span style=\"background-color:rgba(135,206,250,0.5240575);\">spritz</span> <span style=\"background-color:rgba(135,206,250,1.0);\">on</span> <span style=\"background-color:rgba(135,206,250,0.8085478);\">the</span> <span style=\"background-color:rgba(135,206,250,0.41974607);\">finish</span>"
            ]
          },
          "metadata": {}
        },
        {
          "output_type": "stream",
          "name": "stdout",
          "text": [
            ".:   \t99.84%\n",
            ",:   \t0.15%\n",
            "and:   \t0.01%\n",
            "with:   \t0.0%\n",
            "but:   \t0.0%\n",
            "--------\n",
            "\n"
          ]
        },
        {
          "output_type": "display_data",
          "data": {
            "text/plain": [
              "<IPython.core.display.HTML object>"
            ],
            "text/html": [
              "<span style=\"background-color:rgba(135,206,250,0.08658326);\">wine</span> <span style=\"background-color:rgba(135,206,250,0.22588666);\">review</span> <span style=\"background-color:rgba(135,206,250,0.3883323);\">:</span> <span style=\"background-color:rgba(135,206,250,1.0);\">germany</span> <span style=\"background-color:rgba(135,206,250,0.90000033);\">:</span> <span style=\"background-color:rgba(135,206,250,0.33584145);\">mosel</span> <span style=\"background-color:rgba(135,206,250,0.21131659);\">:</span> <span style=\"background-color:rgba(135,206,250,0.47390932);\">riesling</span> <span style=\"background-color:rgba(135,206,250,0.18344446);\">:</span> <span style=\"background-color:rgba(135,206,250,0.05045762);\">a</span> <span style=\"background-color:rgba(135,206,250,0.05183529);\">touch</span> <span style=\"background-color:rgba(135,206,250,0.035540108);\">of</span> <span style=\"background-color:rgba(135,206,250,0.051726468);\">smoke</span> <span style=\"background-color:rgba(135,206,250,0.04533749);\">and</span> <span style=\"background-color:rgba(135,206,250,0.06560396);\">spice</span> <span style=\"background-color:rgba(135,206,250,0.06349037);\">lend</span> <span style=\"background-color:rgba(135,206,250,0.02740085);\">a</span> <span style=\"background-color:rgba(135,206,250,0.052066054);\">fresh</span> <span style=\"background-color:rgba(135,206,250,0.038617007);\">,</span> <span style=\"background-color:rgba(135,206,250,0.057298265);\">mineral</span> <span style=\"background-color:rgba(135,206,250,0.053414006);\">tone</span> <span style=\"background-color:rgba(135,206,250,0.03236012);\">to</span> <span style=\"background-color:rgba(135,206,250,0.07739146);\">this</span> <span style=\"background-color:rgba(135,206,250,0.078445226);\">dry</span> <span style=\"background-color:rgba(135,206,250,0.039567463);\">,</span> <span style=\"background-color:rgba(135,206,250,0.059777252);\">honeyed</span> <span style=\"background-color:rgba(135,206,250,0.045503527);\">,</span> <span style=\"background-color:rgba(135,206,250,0.07503532);\">sunny</span> <span style=\"background-color:rgba(135,206,250,0.09890781);\">tangerine</span> <span style=\"background-color:rgba(135,206,250,0.051128153);\">and</span> <span style=\"background-color:rgba(135,206,250,0.08740189);\">peach</span> <span style=\"background-color:rgba(135,206,250,0.16794644);\">flavors</span> <span style=\"background-color:rgba(135,206,250,0.13683215);\">.</span> <span style=\"background-color:rgba(135,206,250,0.075762674);\">it</span> <span style=\"background-color:rgba(135,206,250,0.020172138);\">'</span> <span style=\"background-color:rgba(135,206,250,0.06999687);\">s</span> <span style=\"background-color:rgba(135,206,250,0.05226434);\">a</span> <span style=\"background-color:rgba(135,206,250,0.2707496);\">straightforward</span> <span style=\"background-color:rgba(135,206,250,0.33412823);\">quaffer</span> <span style=\"background-color:rgba(135,206,250,0.08892844);\">,</span> <span style=\"background-color:rgba(135,206,250,0.10492158);\">showing</span> <span style=\"background-color:rgba(135,206,250,0.090474024);\">a</span> <span style=\"background-color:rgba(135,206,250,0.15373059);\">bit</span> <span style=\"background-color:rgba(135,206,250,0.09512186);\">of</span> <span style=\"background-color:rgba(135,206,250,0.27556798);\">spritz</span> <span style=\"background-color:rgba(135,206,250,0.17019738);\">on</span> <span style=\"background-color:rgba(135,206,250,0.1965558);\">the</span> <span style=\"background-color:rgba(135,206,250,0.6116163);\">finish</span> <span style=\"background-color:rgba(135,206,250,0.61979294);\">.</span>"
            ]
          },
          "metadata": {}
        },
        {
          "output_type": "stream",
          "name": "stdout",
          "text": [
            ":   \t99.33%\n",
            "drink:   \t0.66%\n",
            "it:   \t0.0%\n",
            "enjoy:   \t0.0%\n",
            "try:   \t0.0%\n",
            "--------\n",
            "\n"
          ]
        }
      ],
      "source": [
        "info = text_generator.generate(\n",
        "    \"wine review : germany\", max_tokens=80, temperature=0.5\n",
        ")\n",
        "print_probs(info, vocab)"
      ]
    },
    {
      "cell_type": "code",
      "execution_count": 36,
      "id": "fcc7a7c0-6c64-47d3-acee-96e48f025e01",
      "metadata": {
        "colab": {
          "base_uri": "https://localhost:8080/"
        },
        "id": "fcc7a7c0-6c64-47d3-acee-96e48f025e01",
        "outputId": "bdce596b-ff26-4d8e-8171-71c9b859d520"
      },
      "outputs": [
        {
          "output_type": "stream",
          "name": "stdout",
          "text": [
            "\n",
            "generated text:\n",
            "wine review : italy : tuscany : sangiovese : this opens with aromas of red berry , underbrush , grilled herb and a whiff of menthol . the straightforward palate offers dried black cherry , licorice and a hint of clove alongside bracing tannins . drink through 2017 . \n",
            "\n"
          ]
        }
      ],
      "source": [
        "info = text_generator.generate(\n",
        "    \"wine review : italy\", max_tokens=80, temperature=0.2\n",
        ")"
      ]
    },
    {
      "cell_type": "code",
      "execution_count": null,
      "id": "4122154c-9e41-44ba-8c5f-fe88a55fe977",
      "metadata": {
        "id": "4122154c-9e41-44ba-8c5f-fe88a55fe977"
      },
      "outputs": [],
      "source": []
    }
  ],
  "metadata": {
    "kernelspec": {
      "display_name": "Python 3",
      "name": "python3"
    },
    "language_info": {
      "codemirror_mode": {
        "name": "ipython",
        "version": 3
      },
      "file_extension": ".py",
      "mimetype": "text/x-python",
      "name": "python",
      "nbconvert_exporter": "python",
      "pygments_lexer": "ipython3",
      "version": "3.8.10"
    },
    "vscode": {
      "interpreter": {
        "hash": "31f2aee4e71d21fbe5cf8b01ff0e069b9275f58929596ceb00d14d90e3e16cd6"
      }
    },
    "colab": {
      "provenance": [],
      "gpuType": "T4",
      "include_colab_link": true
    },
    "accelerator": "GPU"
  },
  "nbformat": 4,
  "nbformat_minor": 5
}